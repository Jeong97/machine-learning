{
 "cells": [
  {
   "cell_type": "markdown",
   "metadata": {},
   "source": [
    "# 데이타분석 예제 2"
   ]
  },
  {
   "cell_type": "markdown",
   "metadata": {},
   "source": [
    "## 유가 정보 데이터 분석"
   ]
  },
  {
   "cell_type": "markdown",
   "metadata": {},
   "source": [
    "### 패키지 설치"
   ]
  },
  {
   "cell_type": "code",
   "execution_count": 1,
   "metadata": {},
   "outputs": [],
   "source": [
    "import pandas as pd\n",
    "import numpy as np\n",
    "\n",
    "%matplotlib inline\n",
    "import matplotlib.pyplot as plt\n",
    "\n",
    "import warnings                                         ## 경고 무시\n",
    "warnings.filterwarnings('ignore')"
   ]
  },
  {
   "cell_type": "markdown",
   "metadata": {},
   "source": [
    "### 데이타 불러오기 1 - 브랜트 유가 정보\n",
    "- 브랜트 유가 정보 데이타, 미국 정부에서 공개하는 데이타, 엑셀 형태\n",
    "- pip install xlrd"
   ]
  },
  {
   "cell_type": "code",
   "execution_count": 10,
   "metadata": {},
   "outputs": [],
   "source": [
    "brent_df = pd.read_excel(\"https://www.eia.gov/dnav/pet/hist_xls/RBRTEd.xls\", sheet_name=\"Data 1\")"
   ]
  },
  {
   "cell_type": "code",
   "execution_count": 11,
   "metadata": {},
   "outputs": [
    {
     "data": {
      "text/plain": [
       "(8332, 2)"
      ]
     },
     "execution_count": 11,
     "metadata": {},
     "output_type": "execute_result"
    }
   ],
   "source": [
    "brent_df.shape"
   ]
  },
  {
   "cell_type": "code",
   "execution_count": 12,
   "metadata": {},
   "outputs": [
    {
     "data": {
      "text/html": [
       "<div>\n",
       "<style scoped>\n",
       "    .dataframe tbody tr th:only-of-type {\n",
       "        vertical-align: middle;\n",
       "    }\n",
       "\n",
       "    .dataframe tbody tr th {\n",
       "        vertical-align: top;\n",
       "    }\n",
       "\n",
       "    .dataframe thead th {\n",
       "        text-align: right;\n",
       "    }\n",
       "</style>\n",
       "<table border=\"1\" class=\"dataframe\">\n",
       "  <thead>\n",
       "    <tr style=\"text-align: right;\">\n",
       "      <th></th>\n",
       "      <th>Back to Contents</th>\n",
       "      <th>Data 1: Europe Brent Spot Price FOB (Dollars per Barrel)</th>\n",
       "    </tr>\n",
       "  </thead>\n",
       "  <tbody>\n",
       "    <tr>\n",
       "      <th>0</th>\n",
       "      <td>Sourcekey</td>\n",
       "      <td>RBRTE</td>\n",
       "    </tr>\n",
       "    <tr>\n",
       "      <th>1</th>\n",
       "      <td>Date</td>\n",
       "      <td>Europe Brent Spot Price FOB (Dollars per Barrel)</td>\n",
       "    </tr>\n",
       "    <tr>\n",
       "      <th>2</th>\n",
       "      <td>1987-05-20 00:00:00</td>\n",
       "      <td>18.63</td>\n",
       "    </tr>\n",
       "    <tr>\n",
       "      <th>3</th>\n",
       "      <td>1987-05-21 00:00:00</td>\n",
       "      <td>18.45</td>\n",
       "    </tr>\n",
       "    <tr>\n",
       "      <th>4</th>\n",
       "      <td>1987-05-22 00:00:00</td>\n",
       "      <td>18.55</td>\n",
       "    </tr>\n",
       "  </tbody>\n",
       "</table>\n",
       "</div>"
      ],
      "text/plain": [
       "      Back to Contents  \\\n",
       "0            Sourcekey   \n",
       "1                 Date   \n",
       "2  1987-05-20 00:00:00   \n",
       "3  1987-05-21 00:00:00   \n",
       "4  1987-05-22 00:00:00   \n",
       "\n",
       "  Data 1: Europe Brent Spot Price FOB (Dollars per Barrel)  \n",
       "0                                              RBRTE        \n",
       "1   Europe Brent Spot Price FOB (Dollars per Barrel)        \n",
       "2                                              18.63        \n",
       "3                                              18.45        \n",
       "4                                              18.55        "
      ]
     },
     "execution_count": 12,
     "metadata": {},
     "output_type": "execute_result"
    }
   ],
   "source": [
    "brent_df.head()"
   ]
  },
  {
   "cell_type": "markdown",
   "metadata": {},
   "source": [
    "### 옵션을 이용하여 엑셀 데이타 불러오기"
   ]
  },
  {
   "cell_type": "code",
   "execution_count": 39,
   "metadata": {},
   "outputs": [],
   "source": [
    "brent_df = pd.read_excel(\"https://www.eia.gov/dnav/pet/hist_xls/RBRTEd.xls\",        ##  인터넷 상의 엑셀 파일의 주소를 입력한다 \n",
    "                         sheet_name=\"Data 1\",                                       ## 엑셀 내의 시트를 지정한다\n",
    "                         skiprows=2,                                                ## 헤더에 불필요한 2개의 행을 제거한다\n",
    "                         names=['Date', 'Brent'])                                   ## 열의 이름을 지정한다 "
   ]
  },
  {
   "cell_type": "markdown",
   "metadata": {},
   "source": [
    "### 데이타 살펴보기"
   ]
  },
  {
   "cell_type": "code",
   "execution_count": 16,
   "metadata": {},
   "outputs": [
    {
     "data": {
      "text/html": [
       "<div>\n",
       "<style scoped>\n",
       "    .dataframe tbody tr th:only-of-type {\n",
       "        vertical-align: middle;\n",
       "    }\n",
       "\n",
       "    .dataframe tbody tr th {\n",
       "        vertical-align: top;\n",
       "    }\n",
       "\n",
       "    .dataframe thead th {\n",
       "        text-align: right;\n",
       "    }\n",
       "</style>\n",
       "<table border=\"1\" class=\"dataframe\">\n",
       "  <thead>\n",
       "    <tr style=\"text-align: right;\">\n",
       "      <th></th>\n",
       "      <th>Date</th>\n",
       "      <th>Brent</th>\n",
       "    </tr>\n",
       "  </thead>\n",
       "  <tbody>\n",
       "    <tr>\n",
       "      <th>0</th>\n",
       "      <td>1987-05-20</td>\n",
       "      <td>18.63</td>\n",
       "    </tr>\n",
       "    <tr>\n",
       "      <th>1</th>\n",
       "      <td>1987-05-21</td>\n",
       "      <td>18.45</td>\n",
       "    </tr>\n",
       "    <tr>\n",
       "      <th>2</th>\n",
       "      <td>1987-05-22</td>\n",
       "      <td>18.55</td>\n",
       "    </tr>\n",
       "    <tr>\n",
       "      <th>3</th>\n",
       "      <td>1987-05-25</td>\n",
       "      <td>18.60</td>\n",
       "    </tr>\n",
       "    <tr>\n",
       "      <th>4</th>\n",
       "      <td>1987-05-26</td>\n",
       "      <td>18.63</td>\n",
       "    </tr>\n",
       "  </tbody>\n",
       "</table>\n",
       "</div>"
      ],
      "text/plain": [
       "        Date  Brent\n",
       "0 1987-05-20  18.63\n",
       "1 1987-05-21  18.45\n",
       "2 1987-05-22  18.55\n",
       "3 1987-05-25  18.60\n",
       "4 1987-05-26  18.63"
      ]
     },
     "execution_count": 16,
     "metadata": {},
     "output_type": "execute_result"
    }
   ],
   "source": [
    "brent_df.head()"
   ]
  },
  {
   "cell_type": "code",
   "execution_count": 17,
   "metadata": {},
   "outputs": [
    {
     "data": {
      "text/plain": [
       "(8330, 2)"
      ]
     },
     "execution_count": 17,
     "metadata": {},
     "output_type": "execute_result"
    }
   ],
   "source": [
    "brent_df.shape"
   ]
  },
  {
   "cell_type": "code",
   "execution_count": 18,
   "metadata": {},
   "outputs": [
    {
     "data": {
      "text/plain": [
       "Index(['Date', 'Brent'], dtype='object')"
      ]
     },
     "execution_count": 18,
     "metadata": {},
     "output_type": "execute_result"
    }
   ],
   "source": [
    "brent_df.columns"
   ]
  },
  {
   "cell_type": "code",
   "execution_count": 19,
   "metadata": {},
   "outputs": [
    {
     "data": {
      "text/plain": [
       "Date     datetime64[ns]\n",
       "Brent           float64\n",
       "dtype: object"
      ]
     },
     "execution_count": 19,
     "metadata": {},
     "output_type": "execute_result"
    }
   ],
   "source": [
    "brent_df.dtypes"
   ]
  },
  {
   "cell_type": "code",
   "execution_count": 20,
   "metadata": {},
   "outputs": [
    {
     "name": "stdout",
     "output_type": "stream",
     "text": [
      "<class 'pandas.core.frame.DataFrame'>\n",
      "RangeIndex: 8330 entries, 0 to 8329\n",
      "Data columns (total 2 columns):\n",
      " #   Column  Non-Null Count  Dtype         \n",
      "---  ------  --------------  -----         \n",
      " 0   Date    8330 non-null   datetime64[ns]\n",
      " 1   Brent   8330 non-null   float64       \n",
      "dtypes: datetime64[ns](1), float64(1)\n",
      "memory usage: 130.3 KB\n"
     ]
    }
   ],
   "source": [
    "brent_df.info()"
   ]
  },
  {
   "cell_type": "code",
   "execution_count": 21,
   "metadata": {},
   "outputs": [
    {
     "data": {
      "text/html": [
       "<div>\n",
       "<style scoped>\n",
       "    .dataframe tbody tr th:only-of-type {\n",
       "        vertical-align: middle;\n",
       "    }\n",
       "\n",
       "    .dataframe tbody tr th {\n",
       "        vertical-align: top;\n",
       "    }\n",
       "\n",
       "    .dataframe thead th {\n",
       "        text-align: right;\n",
       "    }\n",
       "</style>\n",
       "<table border=\"1\" class=\"dataframe\">\n",
       "  <thead>\n",
       "    <tr style=\"text-align: right;\">\n",
       "      <th></th>\n",
       "      <th>Brent</th>\n",
       "    </tr>\n",
       "  </thead>\n",
       "  <tbody>\n",
       "    <tr>\n",
       "      <th>count</th>\n",
       "      <td>8330.000000</td>\n",
       "    </tr>\n",
       "    <tr>\n",
       "      <th>mean</th>\n",
       "      <td>46.540921</td>\n",
       "    </tr>\n",
       "    <tr>\n",
       "      <th>std</th>\n",
       "      <td>32.532905</td>\n",
       "    </tr>\n",
       "    <tr>\n",
       "      <th>min</th>\n",
       "      <td>9.100000</td>\n",
       "    </tr>\n",
       "    <tr>\n",
       "      <th>25%</th>\n",
       "      <td>18.780000</td>\n",
       "    </tr>\n",
       "    <tr>\n",
       "      <th>50%</th>\n",
       "      <td>31.920000</td>\n",
       "    </tr>\n",
       "    <tr>\n",
       "      <th>75%</th>\n",
       "      <td>67.177500</td>\n",
       "    </tr>\n",
       "    <tr>\n",
       "      <th>max</th>\n",
       "      <td>143.950000</td>\n",
       "    </tr>\n",
       "  </tbody>\n",
       "</table>\n",
       "</div>"
      ],
      "text/plain": [
       "             Brent\n",
       "count  8330.000000\n",
       "mean     46.540921\n",
       "std      32.532905\n",
       "min       9.100000\n",
       "25%      18.780000\n",
       "50%      31.920000\n",
       "75%      67.177500\n",
       "max     143.950000"
      ]
     },
     "execution_count": 21,
     "metadata": {},
     "output_type": "execute_result"
    }
   ],
   "source": [
    "brent_df.describe()"
   ]
  },
  {
   "cell_type": "markdown",
   "metadata": {},
   "source": [
    "### 데이타 불러오기 2- 또 다른 유가 정보"
   ]
  },
  {
   "cell_type": "code",
   "execution_count": 38,
   "metadata": {},
   "outputs": [],
   "source": [
    "wti_df = pd.read_excel(\"https://www.eia.gov/dnav/pet/hist_xls/RWTCd.xls\",         ##  인터넷 상의 엑셀 파일의 주소를 입력한다 \n",
    "                         sheet_name=\"Data 1\",                                       ## 엑셀 내의 시트를 지정한다\n",
    "                         skiprows=2,                                                ## 헤더에 불필요한 2개의 행을 제거한다\n",
    "                         names=['Date', 'WTI'])                                     ## 열의 이름을 지정한다 "
   ]
  },
  {
   "cell_type": "markdown",
   "metadata": {},
   "source": [
    "### 데이타 살펴보기"
   ]
  },
  {
   "cell_type": "code",
   "execution_count": 40,
   "metadata": {},
   "outputs": [
    {
     "data": {
      "text/html": [
       "<div>\n",
       "<style scoped>\n",
       "    .dataframe tbody tr th:only-of-type {\n",
       "        vertical-align: middle;\n",
       "    }\n",
       "\n",
       "    .dataframe tbody tr th {\n",
       "        vertical-align: top;\n",
       "    }\n",
       "\n",
       "    .dataframe thead th {\n",
       "        text-align: right;\n",
       "    }\n",
       "</style>\n",
       "<table border=\"1\" class=\"dataframe\">\n",
       "  <thead>\n",
       "    <tr style=\"text-align: right;\">\n",
       "      <th></th>\n",
       "      <th>Date</th>\n",
       "      <th>WTI</th>\n",
       "    </tr>\n",
       "  </thead>\n",
       "  <tbody>\n",
       "    <tr>\n",
       "      <th>0</th>\n",
       "      <td>1986-01-02</td>\n",
       "      <td>25.56</td>\n",
       "    </tr>\n",
       "    <tr>\n",
       "      <th>1</th>\n",
       "      <td>1986-01-03</td>\n",
       "      <td>26.00</td>\n",
       "    </tr>\n",
       "    <tr>\n",
       "      <th>2</th>\n",
       "      <td>1986-01-06</td>\n",
       "      <td>26.53</td>\n",
       "    </tr>\n",
       "    <tr>\n",
       "      <th>3</th>\n",
       "      <td>1986-01-07</td>\n",
       "      <td>25.85</td>\n",
       "    </tr>\n",
       "    <tr>\n",
       "      <th>4</th>\n",
       "      <td>1986-01-08</td>\n",
       "      <td>25.87</td>\n",
       "    </tr>\n",
       "  </tbody>\n",
       "</table>\n",
       "</div>"
      ],
      "text/plain": [
       "        Date    WTI\n",
       "0 1986-01-02  25.56\n",
       "1 1986-01-03  26.00\n",
       "2 1986-01-06  26.53\n",
       "3 1986-01-07  25.85\n",
       "4 1986-01-08  25.87"
      ]
     },
     "execution_count": 40,
     "metadata": {},
     "output_type": "execute_result"
    }
   ],
   "source": [
    "wti_df.head()"
   ]
  },
  {
   "cell_type": "code",
   "execution_count": 41,
   "metadata": {},
   "outputs": [
    {
     "data": {
      "text/plain": [
       "(8616, 2)"
      ]
     },
     "execution_count": 41,
     "metadata": {},
     "output_type": "execute_result"
    }
   ],
   "source": [
    "wti_df.shape"
   ]
  },
  {
   "cell_type": "markdown",
   "metadata": {},
   "source": [
    "### 데이타 불러오기 3 - 천연가스 정보 "
   ]
  },
  {
   "cell_type": "code",
   "execution_count": 42,
   "metadata": {},
   "outputs": [],
   "source": [
    "natural_df = pd.read_excel(\"https://www.eia.gov/dnav/ng/hist_xls/RNGWHHDd.xls\",   ##  인터넷 상의 엑셀 파일의 주소를 입력한다\n",
    "                           sheet_name=\"Data 1\",                                   ## 엑셀 내의 시트를 지정한다\n",
    "                           skiprows=2,                                            ## 헤더에 불필요한 2개의 행을 제거한다\n",
    "                           names=['Date', 'GAS'])                                 ## 열의 이름을 지정한다 "
   ]
  },
  {
   "cell_type": "markdown",
   "metadata": {},
   "source": [
    "### 데이타 살펴보기"
   ]
  },
  {
   "cell_type": "code",
   "execution_count": 29,
   "metadata": {},
   "outputs": [
    {
     "data": {
      "text/html": [
       "<div>\n",
       "<style scoped>\n",
       "    .dataframe tbody tr th:only-of-type {\n",
       "        vertical-align: middle;\n",
       "    }\n",
       "\n",
       "    .dataframe tbody tr th {\n",
       "        vertical-align: top;\n",
       "    }\n",
       "\n",
       "    .dataframe thead th {\n",
       "        text-align: right;\n",
       "    }\n",
       "</style>\n",
       "<table border=\"1\" class=\"dataframe\">\n",
       "  <thead>\n",
       "    <tr style=\"text-align: right;\">\n",
       "      <th></th>\n",
       "      <th>Date</th>\n",
       "      <th>GAS</th>\n",
       "    </tr>\n",
       "  </thead>\n",
       "  <tbody>\n",
       "    <tr>\n",
       "      <th>0</th>\n",
       "      <td>1997-01-07</td>\n",
       "      <td>3.82</td>\n",
       "    </tr>\n",
       "    <tr>\n",
       "      <th>1</th>\n",
       "      <td>1997-01-08</td>\n",
       "      <td>3.80</td>\n",
       "    </tr>\n",
       "    <tr>\n",
       "      <th>2</th>\n",
       "      <td>1997-01-09</td>\n",
       "      <td>3.61</td>\n",
       "    </tr>\n",
       "    <tr>\n",
       "      <th>3</th>\n",
       "      <td>1997-01-10</td>\n",
       "      <td>3.92</td>\n",
       "    </tr>\n",
       "    <tr>\n",
       "      <th>4</th>\n",
       "      <td>1997-01-13</td>\n",
       "      <td>4.00</td>\n",
       "    </tr>\n",
       "  </tbody>\n",
       "</table>\n",
       "</div>"
      ],
      "text/plain": [
       "        Date   GAS\n",
       "0 1997-01-07  3.82\n",
       "1 1997-01-08  3.80\n",
       "2 1997-01-09  3.61\n",
       "3 1997-01-10  3.92\n",
       "4 1997-01-13  4.00"
      ]
     },
     "execution_count": 29,
     "metadata": {},
     "output_type": "execute_result"
    }
   ],
   "source": [
    "natural_df.head()"
   ]
  },
  {
   "cell_type": "code",
   "execution_count": 31,
   "metadata": {},
   "outputs": [
    {
     "data": {
      "text/html": [
       "<div>\n",
       "<style scoped>\n",
       "    .dataframe tbody tr th:only-of-type {\n",
       "        vertical-align: middle;\n",
       "    }\n",
       "\n",
       "    .dataframe tbody tr th {\n",
       "        vertical-align: top;\n",
       "    }\n",
       "\n",
       "    .dataframe thead th {\n",
       "        text-align: right;\n",
       "    }\n",
       "</style>\n",
       "<table border=\"1\" class=\"dataframe\">\n",
       "  <thead>\n",
       "    <tr style=\"text-align: right;\">\n",
       "      <th></th>\n",
       "      <th>Date</th>\n",
       "      <th>GAS</th>\n",
       "    </tr>\n",
       "  </thead>\n",
       "  <tbody>\n",
       "    <tr>\n",
       "      <th>5822</th>\n",
       "      <td>2020-03-02</td>\n",
       "      <td>1.75</td>\n",
       "    </tr>\n",
       "    <tr>\n",
       "      <th>5823</th>\n",
       "      <td>2020-03-03</td>\n",
       "      <td>1.78</td>\n",
       "    </tr>\n",
       "    <tr>\n",
       "      <th>5824</th>\n",
       "      <td>2020-03-04</td>\n",
       "      <td>1.83</td>\n",
       "    </tr>\n",
       "    <tr>\n",
       "      <th>5825</th>\n",
       "      <td>2020-03-05</td>\n",
       "      <td>1.89</td>\n",
       "    </tr>\n",
       "    <tr>\n",
       "      <th>5826</th>\n",
       "      <td>2020-03-06</td>\n",
       "      <td>1.76</td>\n",
       "    </tr>\n",
       "  </tbody>\n",
       "</table>\n",
       "</div>"
      ],
      "text/plain": [
       "           Date   GAS\n",
       "5822 2020-03-02  1.75\n",
       "5823 2020-03-03  1.78\n",
       "5824 2020-03-04  1.83\n",
       "5825 2020-03-05  1.89\n",
       "5826 2020-03-06  1.76"
      ]
     },
     "execution_count": 31,
     "metadata": {},
     "output_type": "execute_result"
    }
   ],
   "source": [
    "natural_df.tail()"
   ]
  },
  {
   "cell_type": "code",
   "execution_count": 32,
   "metadata": {},
   "outputs": [
    {
     "data": {
      "text/plain": [
       "(5827, 2)"
      ]
     },
     "execution_count": 32,
     "metadata": {},
     "output_type": "execute_result"
    }
   ],
   "source": [
    "natural_df.shape"
   ]
  },
  {
   "cell_type": "markdown",
   "metadata": {},
   "source": [
    "## 유가 정보와 천연가스 가격정보 비교"
   ]
  },
  {
   "cell_type": "markdown",
   "metadata": {},
   "source": [
    "### 1) 가격 비교를 위해 기준 날짜 맞추기"
   ]
  },
  {
   "cell_type": "markdown",
   "metadata": {},
   "source": [
    "- 천연가스 데이타 : 1997부터 제공\n",
    "- 또 다른 유가 정보 : 1986년부터 제공\n",
    "- 1997년 이후의 데이타만 가지고 2개의 데이타 프레임 생성\n",
    "- 세개의 데이타 프레임을 병합"
   ]
  },
  {
   "cell_type": "code",
   "execution_count": 33,
   "metadata": {},
   "outputs": [
    {
     "data": {
      "text/plain": [
       "2453"
      ]
     },
     "execution_count": 33,
     "metadata": {},
     "output_type": "execute_result"
    }
   ],
   "source": [
    "(brent_df['Date'] < natural_df.loc[0, 'Date']).sum()          ## 두 데이터에 날자별 길이가 차이가 있어서 그 개수를 확인한다 "
   ]
  },
  {
   "cell_type": "code",
   "execution_count": 34,
   "metadata": {},
   "outputs": [],
   "source": [
    "brent_df_n = brent_df.loc[2453:]                             ## 동일한 날짜로 데이터를 다시 만든다 "
   ]
  },
  {
   "cell_type": "code",
   "execution_count": 35,
   "metadata": {},
   "outputs": [
    {
     "data": {
      "text/html": [
       "<div>\n",
       "<style scoped>\n",
       "    .dataframe tbody tr th:only-of-type {\n",
       "        vertical-align: middle;\n",
       "    }\n",
       "\n",
       "    .dataframe tbody tr th {\n",
       "        vertical-align: top;\n",
       "    }\n",
       "\n",
       "    .dataframe thead th {\n",
       "        text-align: right;\n",
       "    }\n",
       "</style>\n",
       "<table border=\"1\" class=\"dataframe\">\n",
       "  <thead>\n",
       "    <tr style=\"text-align: right;\">\n",
       "      <th></th>\n",
       "      <th>Date</th>\n",
       "      <th>Brent</th>\n",
       "    </tr>\n",
       "  </thead>\n",
       "  <tbody>\n",
       "    <tr>\n",
       "      <th>2453</th>\n",
       "      <td>1997-01-07</td>\n",
       "      <td>24.76</td>\n",
       "    </tr>\n",
       "    <tr>\n",
       "      <th>2454</th>\n",
       "      <td>1997-01-08</td>\n",
       "      <td>24.78</td>\n",
       "    </tr>\n",
       "    <tr>\n",
       "      <th>2455</th>\n",
       "      <td>1997-01-09</td>\n",
       "      <td>24.83</td>\n",
       "    </tr>\n",
       "    <tr>\n",
       "      <th>2456</th>\n",
       "      <td>1997-01-10</td>\n",
       "      <td>24.22</td>\n",
       "    </tr>\n",
       "    <tr>\n",
       "      <th>2457</th>\n",
       "      <td>1997-01-13</td>\n",
       "      <td>23.41</td>\n",
       "    </tr>\n",
       "  </tbody>\n",
       "</table>\n",
       "</div>"
      ],
      "text/plain": [
       "           Date  Brent\n",
       "2453 1997-01-07  24.76\n",
       "2454 1997-01-08  24.78\n",
       "2455 1997-01-09  24.83\n",
       "2456 1997-01-10  24.22\n",
       "2457 1997-01-13  23.41"
      ]
     },
     "execution_count": 35,
     "metadata": {},
     "output_type": "execute_result"
    }
   ],
   "source": [
    "brent_df_n.head()"
   ]
  },
  {
   "cell_type": "code",
   "execution_count": 43,
   "metadata": {},
   "outputs": [
    {
     "data": {
      "text/plain": [
       "2799"
      ]
     },
     "execution_count": 43,
     "metadata": {},
     "output_type": "execute_result"
    }
   ],
   "source": [
    "(wti_df['Date'] < natural_df.loc[0, 'Date']).sum()         ## 두 데이터에 날자별 길이가 차이가 있어서 그 개수를 확인한다 "
   ]
  },
  {
   "cell_type": "code",
   "execution_count": 46,
   "metadata": {},
   "outputs": [],
   "source": [
    "wti_df_n = wti_df.loc[2799:]                               ## 동일한 날짜로 데이터를 다시 만든다 "
   ]
  },
  {
   "cell_type": "code",
   "execution_count": 47,
   "metadata": {},
   "outputs": [
    {
     "data": {
      "text/html": [
       "<div>\n",
       "<style scoped>\n",
       "    .dataframe tbody tr th:only-of-type {\n",
       "        vertical-align: middle;\n",
       "    }\n",
       "\n",
       "    .dataframe tbody tr th {\n",
       "        vertical-align: top;\n",
       "    }\n",
       "\n",
       "    .dataframe thead th {\n",
       "        text-align: right;\n",
       "    }\n",
       "</style>\n",
       "<table border=\"1\" class=\"dataframe\">\n",
       "  <thead>\n",
       "    <tr style=\"text-align: right;\">\n",
       "      <th></th>\n",
       "      <th>Date</th>\n",
       "      <th>WTI</th>\n",
       "    </tr>\n",
       "  </thead>\n",
       "  <tbody>\n",
       "    <tr>\n",
       "      <th>2799</th>\n",
       "      <td>1997-01-07</td>\n",
       "      <td>26.25</td>\n",
       "    </tr>\n",
       "    <tr>\n",
       "      <th>2800</th>\n",
       "      <td>1997-01-08</td>\n",
       "      <td>26.55</td>\n",
       "    </tr>\n",
       "    <tr>\n",
       "      <th>2801</th>\n",
       "      <td>1997-01-09</td>\n",
       "      <td>26.30</td>\n",
       "    </tr>\n",
       "    <tr>\n",
       "      <th>2802</th>\n",
       "      <td>1997-01-10</td>\n",
       "      <td>26.15</td>\n",
       "    </tr>\n",
       "    <tr>\n",
       "      <th>2803</th>\n",
       "      <td>1997-01-13</td>\n",
       "      <td>25.20</td>\n",
       "    </tr>\n",
       "  </tbody>\n",
       "</table>\n",
       "</div>"
      ],
      "text/plain": [
       "           Date    WTI\n",
       "2799 1997-01-07  26.25\n",
       "2800 1997-01-08  26.55\n",
       "2801 1997-01-09  26.30\n",
       "2802 1997-01-10  26.15\n",
       "2803 1997-01-13  25.20"
      ]
     },
     "execution_count": 47,
     "metadata": {},
     "output_type": "execute_result"
    }
   ],
   "source": [
    "wti_df_n.head()"
   ]
  },
  {
   "cell_type": "markdown",
   "metadata": {},
   "source": [
    "### 2) 3개의 데이타 프레임 병합"
   ]
  },
  {
   "cell_type": "code",
   "execution_count": 48,
   "metadata": {},
   "outputs": [],
   "source": [
    "total_df = pd.DataFrame()                           ## 새로운 데이터프레임을 하나 만든다 "
   ]
  },
  {
   "cell_type": "markdown",
   "metadata": {},
   "source": [
    "### 브랜트 유가 정보 데이타프레임에 추가"
   ]
  },
  {
   "cell_type": "code",
   "execution_count": 49,
   "metadata": {},
   "outputs": [],
   "source": [
    "total_df['Date'] = brent_df_n[\"Date\"]               ## 날짜를 열을 추가한다 "
   ]
  },
  {
   "cell_type": "code",
   "execution_count": 50,
   "metadata": {},
   "outputs": [],
   "source": [
    "total_df['Brent'] = brent_df_n[\"Brent\"]              ## 데이터를 추가한다 "
   ]
  },
  {
   "cell_type": "code",
   "execution_count": 51,
   "metadata": {},
   "outputs": [
    {
     "data": {
      "text/html": [
       "<div>\n",
       "<style scoped>\n",
       "    .dataframe tbody tr th:only-of-type {\n",
       "        vertical-align: middle;\n",
       "    }\n",
       "\n",
       "    .dataframe tbody tr th {\n",
       "        vertical-align: top;\n",
       "    }\n",
       "\n",
       "    .dataframe thead th {\n",
       "        text-align: right;\n",
       "    }\n",
       "</style>\n",
       "<table border=\"1\" class=\"dataframe\">\n",
       "  <thead>\n",
       "    <tr style=\"text-align: right;\">\n",
       "      <th></th>\n",
       "      <th>Date</th>\n",
       "      <th>Brent</th>\n",
       "    </tr>\n",
       "  </thead>\n",
       "  <tbody>\n",
       "    <tr>\n",
       "      <th>2453</th>\n",
       "      <td>1997-01-07</td>\n",
       "      <td>24.76</td>\n",
       "    </tr>\n",
       "    <tr>\n",
       "      <th>2454</th>\n",
       "      <td>1997-01-08</td>\n",
       "      <td>24.78</td>\n",
       "    </tr>\n",
       "  </tbody>\n",
       "</table>\n",
       "</div>"
      ],
      "text/plain": [
       "           Date  Brent\n",
       "2453 1997-01-07  24.76\n",
       "2454 1997-01-08  24.78"
      ]
     },
     "execution_count": 51,
     "metadata": {},
     "output_type": "execute_result"
    }
   ],
   "source": [
    "total_df.head(2)"
   ]
  },
  {
   "cell_type": "markdown",
   "metadata": {},
   "source": [
    "### 3개의 데이타프레임 병합 - 날짜를 기준"
   ]
  },
  {
   "cell_type": "code",
   "execution_count": 52,
   "metadata": {},
   "outputs": [],
   "source": [
    "total_df = pd.merge(total_df, wti_df_n, on='Date')          ## 동일한 날짜로 두 데이터프레임을 통합한다 "
   ]
  },
  {
   "cell_type": "code",
   "execution_count": 53,
   "metadata": {},
   "outputs": [],
   "source": [
    "total_df = pd.merge(total_df, natural_df, on='Date')         ## 동일한 날짜로 두 데이터프레임을 통합한다 "
   ]
  },
  {
   "cell_type": "code",
   "execution_count": 54,
   "metadata": {},
   "outputs": [
    {
     "data": {
      "text/html": [
       "<div>\n",
       "<style scoped>\n",
       "    .dataframe tbody tr th:only-of-type {\n",
       "        vertical-align: middle;\n",
       "    }\n",
       "\n",
       "    .dataframe tbody tr th {\n",
       "        vertical-align: top;\n",
       "    }\n",
       "\n",
       "    .dataframe thead th {\n",
       "        text-align: right;\n",
       "    }\n",
       "</style>\n",
       "<table border=\"1\" class=\"dataframe\">\n",
       "  <thead>\n",
       "    <tr style=\"text-align: right;\">\n",
       "      <th></th>\n",
       "      <th>Date</th>\n",
       "      <th>Brent</th>\n",
       "      <th>WTI</th>\n",
       "      <th>GAS</th>\n",
       "    </tr>\n",
       "  </thead>\n",
       "  <tbody>\n",
       "    <tr>\n",
       "      <th>0</th>\n",
       "      <td>1997-01-07</td>\n",
       "      <td>24.76</td>\n",
       "      <td>26.25</td>\n",
       "      <td>3.82</td>\n",
       "    </tr>\n",
       "    <tr>\n",
       "      <th>1</th>\n",
       "      <td>1997-01-08</td>\n",
       "      <td>24.78</td>\n",
       "      <td>26.55</td>\n",
       "      <td>3.80</td>\n",
       "    </tr>\n",
       "    <tr>\n",
       "      <th>2</th>\n",
       "      <td>1997-01-09</td>\n",
       "      <td>24.83</td>\n",
       "      <td>26.30</td>\n",
       "      <td>3.61</td>\n",
       "    </tr>\n",
       "    <tr>\n",
       "      <th>3</th>\n",
       "      <td>1997-01-10</td>\n",
       "      <td>24.22</td>\n",
       "      <td>26.15</td>\n",
       "      <td>3.92</td>\n",
       "    </tr>\n",
       "    <tr>\n",
       "      <th>4</th>\n",
       "      <td>1997-01-13</td>\n",
       "      <td>23.41</td>\n",
       "      <td>25.20</td>\n",
       "      <td>4.00</td>\n",
       "    </tr>\n",
       "  </tbody>\n",
       "</table>\n",
       "</div>"
      ],
      "text/plain": [
       "        Date  Brent    WTI   GAS\n",
       "0 1997-01-07  24.76  26.25  3.82\n",
       "1 1997-01-08  24.78  26.55  3.80\n",
       "2 1997-01-09  24.83  26.30  3.61\n",
       "3 1997-01-10  24.22  26.15  3.92\n",
       "4 1997-01-13  23.41  25.20  4.00"
      ]
     },
     "execution_count": 54,
     "metadata": {},
     "output_type": "execute_result"
    }
   ],
   "source": [
    "total_df.head()                                         ## 3개의 데이터프레임을 하나로 통합했다 "
   ]
  },
  {
   "cell_type": "code",
   "execution_count": 55,
   "metadata": {},
   "outputs": [
    {
     "data": {
      "text/html": [
       "<div>\n",
       "<style scoped>\n",
       "    .dataframe tbody tr th:only-of-type {\n",
       "        vertical-align: middle;\n",
       "    }\n",
       "\n",
       "    .dataframe tbody tr th {\n",
       "        vertical-align: top;\n",
       "    }\n",
       "\n",
       "    .dataframe thead th {\n",
       "        text-align: right;\n",
       "    }\n",
       "</style>\n",
       "<table border=\"1\" class=\"dataframe\">\n",
       "  <thead>\n",
       "    <tr style=\"text-align: right;\">\n",
       "      <th></th>\n",
       "      <th>Date</th>\n",
       "      <th>Brent</th>\n",
       "      <th>WTI</th>\n",
       "      <th>GAS</th>\n",
       "    </tr>\n",
       "  </thead>\n",
       "  <tbody>\n",
       "    <tr>\n",
       "      <th>5755</th>\n",
       "      <td>2020-03-02</td>\n",
       "      <td>52.52</td>\n",
       "      <td>46.78</td>\n",
       "      <td>1.75</td>\n",
       "    </tr>\n",
       "    <tr>\n",
       "      <th>5756</th>\n",
       "      <td>2020-03-03</td>\n",
       "      <td>52.24</td>\n",
       "      <td>47.27</td>\n",
       "      <td>1.78</td>\n",
       "    </tr>\n",
       "    <tr>\n",
       "      <th>5757</th>\n",
       "      <td>2020-03-04</td>\n",
       "      <td>51.86</td>\n",
       "      <td>46.78</td>\n",
       "      <td>1.83</td>\n",
       "    </tr>\n",
       "    <tr>\n",
       "      <th>5758</th>\n",
       "      <td>2020-03-05</td>\n",
       "      <td>51.29</td>\n",
       "      <td>45.90</td>\n",
       "      <td>1.89</td>\n",
       "    </tr>\n",
       "    <tr>\n",
       "      <th>5759</th>\n",
       "      <td>2020-03-06</td>\n",
       "      <td>45.60</td>\n",
       "      <td>41.14</td>\n",
       "      <td>1.76</td>\n",
       "    </tr>\n",
       "  </tbody>\n",
       "</table>\n",
       "</div>"
      ],
      "text/plain": [
       "           Date  Brent    WTI   GAS\n",
       "5755 2020-03-02  52.52  46.78  1.75\n",
       "5756 2020-03-03  52.24  47.27  1.78\n",
       "5757 2020-03-04  51.86  46.78  1.83\n",
       "5758 2020-03-05  51.29  45.90  1.89\n",
       "5759 2020-03-06  45.60  41.14  1.76"
      ]
     },
     "execution_count": 55,
     "metadata": {},
     "output_type": "execute_result"
    }
   ],
   "source": [
    "total_df.tail()"
   ]
  },
  {
   "cell_type": "markdown",
   "metadata": {},
   "source": [
    "### 3) 결측치 확인 후 대체"
   ]
  },
  {
   "cell_type": "code",
   "execution_count": 56,
   "metadata": {},
   "outputs": [
    {
     "data": {
      "text/plain": [
       "Date     0\n",
       "Brent    0\n",
       "WTI      0\n",
       "GAS      1\n",
       "dtype: int64"
      ]
     },
     "execution_count": 56,
     "metadata": {},
     "output_type": "execute_result"
    }
   ],
   "source": [
    "total_df.isna().sum()             ##  결측값을 확인한다  "
   ]
  },
  {
   "cell_type": "code",
   "execution_count": 57,
   "metadata": {},
   "outputs": [],
   "source": [
    "total_df = total_df.fillna(0)   ## 하나의 결측값을 0으로 바꾼다 "
   ]
  },
  {
   "cell_type": "code",
   "execution_count": 58,
   "metadata": {},
   "outputs": [
    {
     "data": {
      "text/plain": [
       "Date     0\n",
       "Brent    0\n",
       "WTI      0\n",
       "GAS      0\n",
       "dtype: int64"
      ]
     },
     "execution_count": 58,
     "metadata": {},
     "output_type": "execute_result"
    }
   ],
   "source": [
    "total_df.isna().sum()"
   ]
  },
  {
   "cell_type": "markdown",
   "metadata": {},
   "source": [
    "### 4) 가격 경향 시각화 "
   ]
  },
  {
   "cell_type": "code",
   "execution_count": 59,
   "metadata": {},
   "outputs": [],
   "source": [
    "total_df = total_df.set_index('Date')         ## 날짜를 인덱스로 변환한다 "
   ]
  },
  {
   "cell_type": "markdown",
   "metadata": {},
   "source": [
    "### 선그래프"
   ]
  },
  {
   "cell_type": "code",
   "execution_count": 62,
   "metadata": {},
   "outputs": [
    {
     "data": {
      "text/plain": [
       "<matplotlib.axes._subplots.AxesSubplot at 0x1f6dc6f04c8>"
      ]
     },
     "execution_count": 62,
     "metadata": {},
     "output_type": "execute_result"
    },
    {
     "data": {
      "image/png": "[encoded data removed]",
      "text/plain": [
       "<Figure size 432x288 with 1 Axes>"
      ]
     },
     "metadata": {
      "needs_background": "light"
     },
     "output_type": "display_data"
    }
   ],
   "source": [
    "total_df.plot.line()                                     ## 3개의 값을 선 그래프로 그린다 "
   ]
  },
  {
   "cell_type": "markdown",
   "metadata": {},
   "source": [
    "### 히스토그램"
   ]
  },
  {
   "cell_type": "code",
   "execution_count": 63,
   "metadata": {},
   "outputs": [
    {
     "data": {
      "text/plain": [
       "<matplotlib.axes._subplots.AxesSubplot at 0x1f6dc78bec8>"
      ]
     },
     "execution_count": 63,
     "metadata": {},
     "output_type": "execute_result"
    },
    {
     "data": {
      "image/png": "[encoded data removed]",
      "text/plain": [
       "<Figure size 432x288 with 1 Axes>"
      ]
     },
     "metadata": {
      "needs_background": "light"
     },
     "output_type": "display_data"
    }
   ],
   "source": [
    "total_df.plot.hist(bins=100)                                  ## 히스토그램으로 그린다 "
   ]
  },
  {
   "cell_type": "markdown",
   "metadata": {},
   "source": [
    "## 시각화"
   ]
  },
  {
   "cell_type": "markdown",
   "metadata": {},
   "source": [
    "### 1) 가격 변화율의 분포를 알아보기"
   ]
  },
  {
   "cell_type": "code",
   "execution_count": 65,
   "metadata": {},
   "outputs": [
    {
     "data": {
      "text/plain": [
       "<matplotlib.axes._subplots.AxesSubplot at 0x1f6d8df6688>"
      ]
     },
     "execution_count": 65,
     "metadata": {},
     "output_type": "execute_result"
    },
    {
     "data": {
      "image/png": "[encoded data removed]",
      "text/plain": [
       "<Figure size 432x288 with 1 Axes>"
      ]
     },
     "metadata": {
      "needs_background": "light"
     },
     "output_type": "display_data"
    }
   ],
   "source": [
    "total_df['WTI'].pct_change().plot.hist(bins=100)                "
   ]
  },
  {
   "cell_type": "markdown",
   "metadata": {},
   "source": [
    "- 가격 변화율에 대한 분포를 확인하면 정규분포인 것을 알 수 있다 "
   ]
  },
  {
   "cell_type": "code",
   "execution_count": 66,
   "metadata": {},
   "outputs": [
    {
     "data": {
      "text/plain": [
       "<matplotlib.axes._subplots.AxesSubplot at 0x1f6d63f3f88>"
      ]
     },
     "execution_count": 66,
     "metadata": {},
     "output_type": "execute_result"
    },
    {
     "data": {
      "image/png": "[encoded data removed]",
      "text/plain": [
       "<Figure size 432x288 with 1 Axes>"
      ]
     },
     "metadata": {
      "needs_background": "light"
     },
     "output_type": "display_data"
    }
   ],
   "source": [
    "total_df['Brent'].pct_change().plot.hist(bins=100)       "
   ]
  },
  {
   "cell_type": "markdown",
   "metadata": {},
   "source": [
    "- 가격 변화율에 대한 분포를 확인하면 정규분포인 것을 알 수 있다 "
   ]
  },
  {
   "cell_type": "code",
   "execution_count": 67,
   "metadata": {},
   "outputs": [
    {
     "data": {
      "text/plain": [
       "<matplotlib.axes._subplots.AxesSubplot at 0x1f6d6370788>"
      ]
     },
     "execution_count": 67,
     "metadata": {},
     "output_type": "execute_result"
    },
    {
     "data": {
      "image/png": "[encoded data removed]",
      "text/plain": [
       "<Figure size 432x288 with 1 Axes>"
      ]
     },
     "metadata": {
      "needs_background": "light"
     },
     "output_type": "display_data"
    }
   ],
   "source": [
    "total_df['GAS'].pct_change().replace([np.inf, -np.inf], 0).plot.hist(bins=100)   "
   ]
  },
  {
   "cell_type": "markdown",
   "metadata": {},
   "source": [
    "- 가격 변화율에 대한 분포를 확인하면 폭이 좁은 정규분포인 것을 알 수 있다 "
   ]
  },
  {
   "cell_type": "markdown",
   "metadata": {},
   "source": [
    "### 2) 특정 범위만 추출하여 히스토그램 시각화"
   ]
  },
  {
   "cell_type": "code",
   "execution_count": 68,
   "metadata": {},
   "outputs": [
    {
     "data": {
      "text/plain": [
       "<matplotlib.axes._subplots.AxesSubplot at 0x1f6d63913c8>"
      ]
     },
     "execution_count": 68,
     "metadata": {},
     "output_type": "execute_result"
    },
    {
     "data": {
      "image/png": "[encoded data removed]",
      "text/plain": [
       "<Figure size 432x288 with 1 Axes>"
      ]
     },
     "metadata": {
      "needs_background": "light"
     },
     "output_type": "display_data"
    }
   ],
   "source": [
    "total_df['Brent'].pct_change().plot.hist(bins=100, range=[-0.05, 0.05])        ## 특정 범위만 추출한다"
   ]
  },
  {
   "cell_type": "code",
   "execution_count": 69,
   "metadata": {},
   "outputs": [
    {
     "data": {
      "text/plain": [
       "<matplotlib.axes._subplots.AxesSubplot at 0x1f6d6900988>"
      ]
     },
     "execution_count": 69,
     "metadata": {},
     "output_type": "execute_result"
    },
    {
     "data": {
      "image/png": "[encoded data removed]",
      "text/plain": [
       "<Figure size 432x288 with 1 Axes>"
      ]
     },
     "metadata": {
      "needs_background": "light"
     },
     "output_type": "display_data"
    }
   ],
   "source": [
    "total_df['WTI'].pct_change().plot.hist(bins=100, range=[-0.05, 0.05])          ## 특정 범위만 추출한다"
   ]
  },
  {
   "cell_type": "code",
   "execution_count": 70,
   "metadata": {},
   "outputs": [
    {
     "data": {
      "text/plain": [
       "<matplotlib.axes._subplots.AxesSubplot at 0x1f6d9519448>"
      ]
     },
     "execution_count": 70,
     "metadata": {},
     "output_type": "execute_result"
    },
    {
     "data": {
      "image/png": "[encoded data removed]",
      "text/plain": [
       "<Figure size 432x288 with 1 Axes>"
      ]
     },
     "metadata": {
      "needs_background": "light"
     },
     "output_type": "display_data"
    }
   ],
   "source": [
    "total_df['GAS'].pct_change().replace([np.inf, -np.inf], 0).plot.hist(bins=100, range=[-0.05, 0.05])       ## 특정 범위만 추출한다"
   ]
  },
  {
   "cell_type": "markdown",
   "metadata": {},
   "source": [
    "- 천연 가스 가격에 대한 빈도는 가장 중앙에 있는 값이 다른 값보다 많이 발생한 것으로 보임"
   ]
  },
  {
   "cell_type": "markdown",
   "metadata": {},
   "source": [
    "## 기술 통계"
   ]
  },
  {
   "cell_type": "code",
   "execution_count": 72,
   "metadata": {},
   "outputs": [
    {
     "data": {
      "text/html": [
       "<div>\n",
       "<style scoped>\n",
       "    .dataframe tbody tr th:only-of-type {\n",
       "        vertical-align: middle;\n",
       "    }\n",
       "\n",
       "    .dataframe tbody tr th {\n",
       "        vertical-align: top;\n",
       "    }\n",
       "\n",
       "    .dataframe thead th {\n",
       "        text-align: right;\n",
       "    }\n",
       "</style>\n",
       "<table border=\"1\" class=\"dataframe\">\n",
       "  <thead>\n",
       "    <tr style=\"text-align: right;\">\n",
       "      <th></th>\n",
       "      <th>Brent</th>\n",
       "      <th>WTI</th>\n",
       "      <th>GAS</th>\n",
       "    </tr>\n",
       "  </thead>\n",
       "  <tbody>\n",
       "    <tr>\n",
       "      <th>count</th>\n",
       "      <td>5760.000000</td>\n",
       "      <td>5760.000000</td>\n",
       "      <td>5760.000000</td>\n",
       "    </tr>\n",
       "    <tr>\n",
       "      <th>mean</th>\n",
       "      <td>58.526698</td>\n",
       "      <td>56.251040</td>\n",
       "      <td>4.245759</td>\n",
       "    </tr>\n",
       "    <tr>\n",
       "      <th>std</th>\n",
       "      <td>32.228978</td>\n",
       "      <td>28.462501</td>\n",
       "      <td>2.188518</td>\n",
       "    </tr>\n",
       "    <tr>\n",
       "      <th>min</th>\n",
       "      <td>9.100000</td>\n",
       "      <td>10.820000</td>\n",
       "      <td>0.000000</td>\n",
       "    </tr>\n",
       "    <tr>\n",
       "      <th>25%</th>\n",
       "      <td>28.795000</td>\n",
       "      <td>30.310000</td>\n",
       "      <td>2.710000</td>\n",
       "    </tr>\n",
       "    <tr>\n",
       "      <th>50%</th>\n",
       "      <td>56.135000</td>\n",
       "      <td>53.460000</td>\n",
       "      <td>3.590000</td>\n",
       "    </tr>\n",
       "    <tr>\n",
       "      <th>75%</th>\n",
       "      <td>77.740000</td>\n",
       "      <td>76.990000</td>\n",
       "      <td>5.310000</td>\n",
       "    </tr>\n",
       "    <tr>\n",
       "      <th>max</th>\n",
       "      <td>143.950000</td>\n",
       "      <td>145.310000</td>\n",
       "      <td>18.480000</td>\n",
       "    </tr>\n",
       "  </tbody>\n",
       "</table>\n",
       "</div>"
      ],
      "text/plain": [
       "             Brent          WTI          GAS\n",
       "count  5760.000000  5760.000000  5760.000000\n",
       "mean     58.526698    56.251040     4.245759\n",
       "std      32.228978    28.462501     2.188518\n",
       "min       9.100000    10.820000     0.000000\n",
       "25%      28.795000    30.310000     2.710000\n",
       "50%      56.135000    53.460000     3.590000\n",
       "75%      77.740000    76.990000     5.310000\n",
       "max     143.950000   145.310000    18.480000"
      ]
     },
     "execution_count": 72,
     "metadata": {},
     "output_type": "execute_result"
    }
   ],
   "source": [
    "total_df.describe()                            ## 기술 통계를 확인한다 "
   ]
  },
  {
   "cell_type": "markdown",
   "metadata": {},
   "source": [
    "## 날짜별 가격의 평균 변화 시각화"
   ]
  },
  {
   "cell_type": "markdown",
   "metadata": {},
   "source": [
    "### 1) 날짜를 년, 월, 일로 분리"
   ]
  },
  {
   "cell_type": "code",
   "execution_count": 73,
   "metadata": {},
   "outputs": [],
   "source": [
    "total_df = total_df.reset_index()                        ## 특정 연도, 월, 주, 요일에 대한 처리를 위해 인덱스 지정을 해제한다 "
   ]
  },
  {
   "cell_type": "code",
   "execution_count": 74,
   "metadata": {},
   "outputs": [],
   "source": [
    "total_df['year'] = total_df[\"Date\"].dt.year              ## 년도를 열로 추가한다 "
   ]
  },
  {
   "cell_type": "code",
   "execution_count": 75,
   "metadata": {},
   "outputs": [],
   "source": [
    "total_df['month'] = total_df[\"Date\"].dt.month            ## 월을  열로 추가한다 "
   ]
  },
  {
   "cell_type": "code",
   "execution_count": 76,
   "metadata": {},
   "outputs": [],
   "source": [
    "total_df['week'] = total_df[\"Date\"].dt.week             ## 주를 열로 추가한다 "
   ]
  },
  {
   "cell_type": "code",
   "execution_count": 77,
   "metadata": {},
   "outputs": [],
   "source": [
    "total_df['dayofweek'] = total_df[\"Date\"].dt.dayofweek    ## 요일을 열로 추가한다 "
   ]
  },
  {
   "cell_type": "code",
   "execution_count": 78,
   "metadata": {},
   "outputs": [
    {
     "data": {
      "text/html": [
       "<div>\n",
       "<style scoped>\n",
       "    .dataframe tbody tr th:only-of-type {\n",
       "        vertical-align: middle;\n",
       "    }\n",
       "\n",
       "    .dataframe tbody tr th {\n",
       "        vertical-align: top;\n",
       "    }\n",
       "\n",
       "    .dataframe thead th {\n",
       "        text-align: right;\n",
       "    }\n",
       "</style>\n",
       "<table border=\"1\" class=\"dataframe\">\n",
       "  <thead>\n",
       "    <tr style=\"text-align: right;\">\n",
       "      <th></th>\n",
       "      <th>Date</th>\n",
       "      <th>Brent</th>\n",
       "      <th>WTI</th>\n",
       "      <th>GAS</th>\n",
       "      <th>year</th>\n",
       "      <th>month</th>\n",
       "      <th>week</th>\n",
       "      <th>dayofweek</th>\n",
       "    </tr>\n",
       "  </thead>\n",
       "  <tbody>\n",
       "    <tr>\n",
       "      <th>0</th>\n",
       "      <td>1997-01-07</td>\n",
       "      <td>24.76</td>\n",
       "      <td>26.25</td>\n",
       "      <td>3.82</td>\n",
       "      <td>1997</td>\n",
       "      <td>1</td>\n",
       "      <td>2</td>\n",
       "      <td>1</td>\n",
       "    </tr>\n",
       "    <tr>\n",
       "      <th>1</th>\n",
       "      <td>1997-01-08</td>\n",
       "      <td>24.78</td>\n",
       "      <td>26.55</td>\n",
       "      <td>3.80</td>\n",
       "      <td>1997</td>\n",
       "      <td>1</td>\n",
       "      <td>2</td>\n",
       "      <td>2</td>\n",
       "    </tr>\n",
       "    <tr>\n",
       "      <th>2</th>\n",
       "      <td>1997-01-09</td>\n",
       "      <td>24.83</td>\n",
       "      <td>26.30</td>\n",
       "      <td>3.61</td>\n",
       "      <td>1997</td>\n",
       "      <td>1</td>\n",
       "      <td>2</td>\n",
       "      <td>3</td>\n",
       "    </tr>\n",
       "    <tr>\n",
       "      <th>3</th>\n",
       "      <td>1997-01-10</td>\n",
       "      <td>24.22</td>\n",
       "      <td>26.15</td>\n",
       "      <td>3.92</td>\n",
       "      <td>1997</td>\n",
       "      <td>1</td>\n",
       "      <td>2</td>\n",
       "      <td>4</td>\n",
       "    </tr>\n",
       "    <tr>\n",
       "      <th>4</th>\n",
       "      <td>1997-01-13</td>\n",
       "      <td>23.41</td>\n",
       "      <td>25.20</td>\n",
       "      <td>4.00</td>\n",
       "      <td>1997</td>\n",
       "      <td>1</td>\n",
       "      <td>3</td>\n",
       "      <td>0</td>\n",
       "    </tr>\n",
       "  </tbody>\n",
       "</table>\n",
       "</div>"
      ],
      "text/plain": [
       "        Date  Brent    WTI   GAS  year  month  week  dayofweek\n",
       "0 1997-01-07  24.76  26.25  3.82  1997      1     2          1\n",
       "1 1997-01-08  24.78  26.55  3.80  1997      1     2          2\n",
       "2 1997-01-09  24.83  26.30  3.61  1997      1     2          3\n",
       "3 1997-01-10  24.22  26.15  3.92  1997      1     2          4\n",
       "4 1997-01-13  23.41  25.20  4.00  1997      1     3          0"
      ]
     },
     "execution_count": 78,
     "metadata": {},
     "output_type": "execute_result"
    }
   ],
   "source": [
    "total_df.head()"
   ]
  },
  {
   "cell_type": "markdown",
   "metadata": {},
   "source": [
    "### 2) 날짜별 가격 정보 시각화 "
   ]
  },
  {
   "cell_type": "code",
   "execution_count": 79,
   "metadata": {},
   "outputs": [],
   "source": [
    "total_df = total_df.set_index('Date')                      ## 다시 날짜를 인덱스로 잡는다 "
   ]
  },
  {
   "cell_type": "code",
   "execution_count": 83,
   "metadata": {},
   "outputs": [
    {
     "data": {
      "text/html": [
       "<div>\n",
       "<style scoped>\n",
       "    .dataframe tbody tr th:only-of-type {\n",
       "        vertical-align: middle;\n",
       "    }\n",
       "\n",
       "    .dataframe tbody tr th {\n",
       "        vertical-align: top;\n",
       "    }\n",
       "\n",
       "    .dataframe thead th {\n",
       "        text-align: right;\n",
       "    }\n",
       "</style>\n",
       "<table border=\"1\" class=\"dataframe\">\n",
       "  <thead>\n",
       "    <tr style=\"text-align: right;\">\n",
       "      <th></th>\n",
       "      <th>Brent</th>\n",
       "      <th>WTI</th>\n",
       "      <th>GAS</th>\n",
       "    </tr>\n",
       "    <tr>\n",
       "      <th>year</th>\n",
       "      <th></th>\n",
       "      <th></th>\n",
       "      <th></th>\n",
       "    </tr>\n",
       "  </thead>\n",
       "  <tbody>\n",
       "    <tr>\n",
       "      <th>1997</th>\n",
       "      <td>19.041079</td>\n",
       "      <td>20.535145</td>\n",
       "      <td>2.487469</td>\n",
       "    </tr>\n",
       "    <tr>\n",
       "      <th>1998</th>\n",
       "      <td>12.766964</td>\n",
       "      <td>14.428057</td>\n",
       "      <td>2.089717</td>\n",
       "    </tr>\n",
       "    <tr>\n",
       "      <th>1999</th>\n",
       "      <td>17.852041</td>\n",
       "      <td>19.255102</td>\n",
       "      <td>2.272408</td>\n",
       "    </tr>\n",
       "    <tr>\n",
       "      <th>2000</th>\n",
       "      <td>28.586612</td>\n",
       "      <td>30.394122</td>\n",
       "      <td>4.296694</td>\n",
       "    </tr>\n",
       "    <tr>\n",
       "      <th>2001</th>\n",
       "      <td>24.478112</td>\n",
       "      <td>26.001847</td>\n",
       "      <td>3.965382</td>\n",
       "    </tr>\n",
       "    <tr>\n",
       "      <th>2002</th>\n",
       "      <td>25.023699</td>\n",
       "      <td>26.167073</td>\n",
       "      <td>3.369187</td>\n",
       "    </tr>\n",
       "    <tr>\n",
       "      <th>2003</th>\n",
       "      <td>28.840880</td>\n",
       "      <td>31.075240</td>\n",
       "      <td>5.471160</td>\n",
       "    </tr>\n",
       "    <tr>\n",
       "      <th>2004</th>\n",
       "      <td>38.333815</td>\n",
       "      <td>41.506024</td>\n",
       "      <td>5.892892</td>\n",
       "    </tr>\n",
       "    <tr>\n",
       "      <th>2005</th>\n",
       "      <td>54.353222</td>\n",
       "      <td>56.347992</td>\n",
       "      <td>8.692678</td>\n",
       "    </tr>\n",
       "    <tr>\n",
       "      <th>2006</th>\n",
       "      <td>65.135830</td>\n",
       "      <td>66.057652</td>\n",
       "      <td>6.733360</td>\n",
       "    </tr>\n",
       "    <tr>\n",
       "      <th>2007</th>\n",
       "      <td>72.441160</td>\n",
       "      <td>72.289720</td>\n",
       "      <td>6.964560</td>\n",
       "    </tr>\n",
       "    <tr>\n",
       "      <th>2008</th>\n",
       "      <td>96.944348</td>\n",
       "      <td>99.671502</td>\n",
       "      <td>8.862530</td>\n",
       "    </tr>\n",
       "    <tr>\n",
       "      <th>2009</th>\n",
       "      <td>61.738770</td>\n",
       "      <td>61.950437</td>\n",
       "      <td>3.942659</td>\n",
       "    </tr>\n",
       "    <tr>\n",
       "      <th>2010</th>\n",
       "      <td>79.609444</td>\n",
       "      <td>79.475714</td>\n",
       "      <td>4.369722</td>\n",
       "    </tr>\n",
       "    <tr>\n",
       "      <th>2011</th>\n",
       "      <td>111.264274</td>\n",
       "      <td>94.743347</td>\n",
       "      <td>3.996653</td>\n",
       "    </tr>\n",
       "    <tr>\n",
       "      <th>2012</th>\n",
       "      <td>111.570683</td>\n",
       "      <td>93.964297</td>\n",
       "      <td>2.762651</td>\n",
       "    </tr>\n",
       "    <tr>\n",
       "      <th>2013</th>\n",
       "      <td>108.555000</td>\n",
       "      <td>97.982540</td>\n",
       "      <td>3.731270</td>\n",
       "    </tr>\n",
       "    <tr>\n",
       "      <th>2014</th>\n",
       "      <td>98.889921</td>\n",
       "      <td>93.172222</td>\n",
       "      <td>4.372698</td>\n",
       "    </tr>\n",
       "    <tr>\n",
       "      <th>2015</th>\n",
       "      <td>52.311235</td>\n",
       "      <td>48.654542</td>\n",
       "      <td>2.628725</td>\n",
       "    </tr>\n",
       "    <tr>\n",
       "      <th>2016</th>\n",
       "      <td>43.657570</td>\n",
       "      <td>43.255697</td>\n",
       "      <td>2.512948</td>\n",
       "    </tr>\n",
       "    <tr>\n",
       "      <th>2017</th>\n",
       "      <td>54.136546</td>\n",
       "      <td>50.765181</td>\n",
       "      <td>2.985582</td>\n",
       "    </tr>\n",
       "    <tr>\n",
       "      <th>2018</th>\n",
       "      <td>71.412846</td>\n",
       "      <td>65.291911</td>\n",
       "      <td>3.142073</td>\n",
       "    </tr>\n",
       "    <tr>\n",
       "      <th>2019</th>\n",
       "      <td>64.351673</td>\n",
       "      <td>57.004980</td>\n",
       "      <td>2.559124</td>\n",
       "    </tr>\n",
       "    <tr>\n",
       "      <th>2020</th>\n",
       "      <td>58.979565</td>\n",
       "      <td>53.417826</td>\n",
       "      <td>1.953913</td>\n",
       "    </tr>\n",
       "  </tbody>\n",
       "</table>\n",
       "</div>"
      ],
      "text/plain": [
       "           Brent        WTI       GAS\n",
       "year                                 \n",
       "1997   19.041079  20.535145  2.487469\n",
       "1998   12.766964  14.428057  2.089717\n",
       "1999   17.852041  19.255102  2.272408\n",
       "2000   28.586612  30.394122  4.296694\n",
       "2001   24.478112  26.001847  3.965382\n",
       "2002   25.023699  26.167073  3.369187\n",
       "2003   28.840880  31.075240  5.471160\n",
       "2004   38.333815  41.506024  5.892892\n",
       "2005   54.353222  56.347992  8.692678\n",
       "2006   65.135830  66.057652  6.733360\n",
       "2007   72.441160  72.289720  6.964560\n",
       "2008   96.944348  99.671502  8.862530\n",
       "2009   61.738770  61.950437  3.942659\n",
       "2010   79.609444  79.475714  4.369722\n",
       "2011  111.264274  94.743347  3.996653\n",
       "2012  111.570683  93.964297  2.762651\n",
       "2013  108.555000  97.982540  3.731270\n",
       "2014   98.889921  93.172222  4.372698\n",
       "2015   52.311235  48.654542  2.628725\n",
       "2016   43.657570  43.255697  2.512948\n",
       "2017   54.136546  50.765181  2.985582\n",
       "2018   71.412846  65.291911  3.142073\n",
       "2019   64.351673  57.004980  2.559124\n",
       "2020   58.979565  53.417826  1.953913"
      ]
     },
     "execution_count": 83,
     "metadata": {},
     "output_type": "execute_result"
    }
   ],
   "source": [
    "total_df.groupby('year')['Brent',\"WTI\", 'GAS'].mean()"
   ]
  },
  {
   "cell_type": "code",
   "execution_count": 80,
   "metadata": {},
   "outputs": [
    {
     "data": {
      "text/plain": [
       "<matplotlib.axes._subplots.AxesSubplot at 0x1f6dcb52b08>"
      ]
     },
     "execution_count": 80,
     "metadata": {},
     "output_type": "execute_result"
    },
    {
     "data": {
      "image/png": "[encoded data removed]",
      "text/plain": [
       "<Figure size 432x288 with 1 Axes>"
      ]
     },
     "metadata": {
      "needs_background": "light"
     },
     "output_type": "display_data"
    }
   ],
   "source": [
    "total_df.groupby('year')['Brent',\"WTI\", 'GAS'].mean().plot()     ## 연도별 평균으로 변화를 확인한다 "
   ]
  },
  {
   "cell_type": "markdown",
   "metadata": {},
   "source": [
    "- 유가는 많은 변동이 있지만 천연가스는 거의 균일한 가격을 유지"
   ]
  },
  {
   "cell_type": "markdown",
   "metadata": {},
   "source": [
    "### 3) 년도와 월 단위의 평균에 대한 추세 시각화 "
   ]
  },
  {
   "cell_type": "code",
   "execution_count": 82,
   "metadata": {},
   "outputs": [
    {
     "data": {
      "text/html": [
       "<div>\n",
       "<style scoped>\n",
       "    .dataframe tbody tr th:only-of-type {\n",
       "        vertical-align: middle;\n",
       "    }\n",
       "\n",
       "    .dataframe tbody tr th {\n",
       "        vertical-align: top;\n",
       "    }\n",
       "\n",
       "    .dataframe thead th {\n",
       "        text-align: right;\n",
       "    }\n",
       "</style>\n",
       "<table border=\"1\" class=\"dataframe\">\n",
       "  <thead>\n",
       "    <tr style=\"text-align: right;\">\n",
       "      <th></th>\n",
       "      <th></th>\n",
       "      <th>Brent</th>\n",
       "      <th>WTI</th>\n",
       "      <th>GAS</th>\n",
       "    </tr>\n",
       "    <tr>\n",
       "      <th>year</th>\n",
       "      <th>month</th>\n",
       "      <th></th>\n",
       "      <th></th>\n",
       "      <th></th>\n",
       "    </tr>\n",
       "  </thead>\n",
       "  <tbody>\n",
       "    <tr>\n",
       "      <th rowspan=\"5\" valign=\"top\">1997</th>\n",
       "      <th>1</th>\n",
       "      <td>23.382778</td>\n",
       "      <td>25.025000</td>\n",
       "      <td>3.420000</td>\n",
       "    </tr>\n",
       "    <tr>\n",
       "      <th>2</th>\n",
       "      <td>20.871111</td>\n",
       "      <td>22.169444</td>\n",
       "      <td>2.137222</td>\n",
       "    </tr>\n",
       "    <tr>\n",
       "      <th>3</th>\n",
       "      <td>19.164737</td>\n",
       "      <td>20.944737</td>\n",
       "      <td>1.890526</td>\n",
       "    </tr>\n",
       "    <tr>\n",
       "      <th>4</th>\n",
       "      <td>17.555909</td>\n",
       "      <td>19.695455</td>\n",
       "      <td>2.032727</td>\n",
       "    </tr>\n",
       "    <tr>\n",
       "      <th>5</th>\n",
       "      <td>19.022857</td>\n",
       "      <td>20.819048</td>\n",
       "      <td>2.248095</td>\n",
       "    </tr>\n",
       "    <tr>\n",
       "      <th>...</th>\n",
       "      <th>...</th>\n",
       "      <td>...</td>\n",
       "      <td>...</td>\n",
       "      <td>...</td>\n",
       "    </tr>\n",
       "    <tr>\n",
       "      <th rowspan=\"2\" valign=\"top\">2019</th>\n",
       "      <th>11</th>\n",
       "      <td>63.167895</td>\n",
       "      <td>57.048947</td>\n",
       "      <td>2.641579</td>\n",
       "    </tr>\n",
       "    <tr>\n",
       "      <th>12</th>\n",
       "      <td>67.310000</td>\n",
       "      <td>59.878182</td>\n",
       "      <td>2.219091</td>\n",
       "    </tr>\n",
       "    <tr>\n",
       "      <th rowspan=\"3\" valign=\"top\">2020</th>\n",
       "      <th>1</th>\n",
       "      <td>63.788182</td>\n",
       "      <td>57.683636</td>\n",
       "      <td>2.023636</td>\n",
       "    </tr>\n",
       "    <tr>\n",
       "      <th>2</th>\n",
       "      <td>55.590000</td>\n",
       "      <td>50.542632</td>\n",
       "      <td>1.913158</td>\n",
       "    </tr>\n",
       "    <tr>\n",
       "      <th>3</th>\n",
       "      <td>50.702000</td>\n",
       "      <td>45.574000</td>\n",
       "      <td>1.802000</td>\n",
       "    </tr>\n",
       "  </tbody>\n",
       "</table>\n",
       "<p>279 rows × 3 columns</p>\n",
       "</div>"
      ],
      "text/plain": [
       "                Brent        WTI       GAS\n",
       "year month                                \n",
       "1997 1      23.382778  25.025000  3.420000\n",
       "     2      20.871111  22.169444  2.137222\n",
       "     3      19.164737  20.944737  1.890526\n",
       "     4      17.555909  19.695455  2.032727\n",
       "     5      19.022857  20.819048  2.248095\n",
       "...               ...        ...       ...\n",
       "2019 11     63.167895  57.048947  2.641579\n",
       "     12     67.310000  59.878182  2.219091\n",
       "2020 1      63.788182  57.683636  2.023636\n",
       "     2      55.590000  50.542632  1.913158\n",
       "     3      50.702000  45.574000  1.802000\n",
       "\n",
       "[279 rows x 3 columns]"
      ]
     },
     "execution_count": 82,
     "metadata": {},
     "output_type": "execute_result"
    }
   ],
   "source": [
    "total_df.groupby(['year','month'])['Brent',\"WTI\", 'GAS'].mean()"
   ]
  },
  {
   "cell_type": "code",
   "execution_count": 81,
   "metadata": {},
   "outputs": [
    {
     "data": {
      "text/plain": [
       "<matplotlib.axes._subplots.AxesSubplot at 0x1f6dcbaa188>"
      ]
     },
     "execution_count": 81,
     "metadata": {},
     "output_type": "execute_result"
    },
    {
     "data": {
      "image/png": "[encoded data removed]",
      "text/plain": [
       "<Figure size 432x288 with 1 Axes>"
      ]
     },
     "metadata": {
      "needs_background": "light"
     },
     "output_type": "display_data"
    }
   ],
   "source": [
    "total_df.groupby(['year','month'])['Brent',\"WTI\", 'GAS'].mean().plot()       ## 년도와 열의 평균으로 선그래프를 그린다 "
   ]
  },
  {
   "cell_type": "markdown",
   "metadata": {},
   "source": [
    "### 4) 주별로 가격 평균의 변화 시각화 "
   ]
  },
  {
   "cell_type": "code",
   "execution_count": 84,
   "metadata": {},
   "outputs": [
    {
     "data": {
      "text/plain": [
       "<matplotlib.axes._subplots.AxesSubplot at 0x1f6dcc4ebc8>"
      ]
     },
     "execution_count": 84,
     "metadata": {},
     "output_type": "execute_result"
    },
    {
     "data": {
      "image/png": "[encoded data removed]",
      "text/plain": [
       "<Figure size 432x288 with 1 Axes>"
      ]
     },
     "metadata": {
      "needs_background": "light"
     },
     "output_type": "display_data"
    }
   ],
   "source": [
    "total_df.groupby(['year', 'week'])['Brent',\"WTI\", 'GAS'].mean().plot()     ## 년도와 주별로 가격의 변화를 확인한다 "
   ]
  },
  {
   "cell_type": "markdown",
   "metadata": {},
   "source": [
    "- 주별 가격 평균이 변화와 월 평균가가 거의 동일 \n",
    "- -> 유가의 변화는 특정 월 단위로 추세 변화를 예측하는 것이 바람직"
   ]
  },
  {
   "cell_type": "markdown",
   "metadata": {},
   "source": [
    "## 유가의 정보를 특정 년도별로 각 월에 대한 비교 시각화 "
   ]
  },
  {
   "cell_type": "markdown",
   "metadata": {},
   "source": [
    "### 1) 피벗 테이블 생성"
   ]
  },
  {
   "cell_type": "code",
   "execution_count": 108,
   "metadata": {},
   "outputs": [],
   "source": [
    "pivot_wti = total_df.pivot_table(values='WTI',                 ## 월을 행, 년도를 열로 해서 평균가격으로 피봇테이블을 만든다 \n",
    "                                 columns=['year'], \n",
    "                                 index=['month'], \n",
    "                                 aggfunc=np.mean)"
   ]
  },
  {
   "cell_type": "code",
   "execution_count": 109,
   "metadata": {},
   "outputs": [
    {
     "data": {
      "text/html": [
       "<div>\n",
       "<style scoped>\n",
       "    .dataframe tbody tr th:only-of-type {\n",
       "        vertical-align: middle;\n",
       "    }\n",
       "\n",
       "    .dataframe tbody tr th {\n",
       "        vertical-align: top;\n",
       "    }\n",
       "\n",
       "    .dataframe thead th {\n",
       "        text-align: right;\n",
       "    }\n",
       "</style>\n",
       "<table border=\"1\" class=\"dataframe\">\n",
       "  <thead>\n",
       "    <tr style=\"text-align: right;\">\n",
       "      <th>year</th>\n",
       "      <th>1997</th>\n",
       "      <th>1998</th>\n",
       "      <th>1999</th>\n",
       "      <th>2000</th>\n",
       "      <th>2001</th>\n",
       "    </tr>\n",
       "    <tr>\n",
       "      <th>month</th>\n",
       "      <th></th>\n",
       "      <th></th>\n",
       "      <th></th>\n",
       "      <th></th>\n",
       "      <th></th>\n",
       "    </tr>\n",
       "  </thead>\n",
       "  <tbody>\n",
       "    <tr>\n",
       "      <th>1</th>\n",
       "      <td>25.025000</td>\n",
       "      <td>16.724000</td>\n",
       "      <td>12.514737</td>\n",
       "      <td>27.259474</td>\n",
       "      <td>29.585714</td>\n",
       "    </tr>\n",
       "    <tr>\n",
       "      <th>2</th>\n",
       "      <td>22.169444</td>\n",
       "      <td>16.060000</td>\n",
       "      <td>12.013684</td>\n",
       "      <td>29.366000</td>\n",
       "      <td>29.609474</td>\n",
       "    </tr>\n",
       "    <tr>\n",
       "      <th>3</th>\n",
       "      <td>20.944737</td>\n",
       "      <td>15.115455</td>\n",
       "      <td>14.676522</td>\n",
       "      <td>29.754545</td>\n",
       "      <td>27.244545</td>\n",
       "    </tr>\n",
       "    <tr>\n",
       "      <th>4</th>\n",
       "      <td>19.695455</td>\n",
       "      <td>15.354000</td>\n",
       "      <td>17.331000</td>\n",
       "      <td>25.628333</td>\n",
       "      <td>27.490000</td>\n",
       "    </tr>\n",
       "    <tr>\n",
       "      <th>5</th>\n",
       "      <td>20.819048</td>\n",
       "      <td>14.857895</td>\n",
       "      <td>17.660000</td>\n",
       "      <td>28.928571</td>\n",
       "      <td>28.629091</td>\n",
       "    </tr>\n",
       "  </tbody>\n",
       "</table>\n",
       "</div>"
      ],
      "text/plain": [
       "year        1997       1998       1999       2000       2001\n",
       "month                                                       \n",
       "1      25.025000  16.724000  12.514737  27.259474  29.585714\n",
       "2      22.169444  16.060000  12.013684  29.366000  29.609474\n",
       "3      20.944737  15.115455  14.676522  29.754545  27.244545\n",
       "4      19.695455  15.354000  17.331000  25.628333  27.490000\n",
       "5      20.819048  14.857895  17.660000  28.928571  28.629091"
      ]
     },
     "execution_count": 109,
     "metadata": {},
     "output_type": "execute_result"
    }
   ],
   "source": [
    "pivot_wti[[*pivot_wti.columns[:5]]].head()                       ## 5개년치의 금액을 확인한다 "
   ]
  },
  {
   "cell_type": "code",
   "execution_count": 95,
   "metadata": {},
   "outputs": [
    {
     "data": {
      "text/plain": [
       "month\n",
       "1    51.375714\n",
       "2    54.954737\n",
       "3    58.151429\n",
       "4    63.862381\n",
       "5    60.826818\n",
       "Name: 2019, dtype: float64"
      ]
     },
     "execution_count": 95,
     "metadata": {},
     "output_type": "execute_result"
    }
   ],
   "source": [
    "pivot_wti[2019].head()                      ## 특정 년도만 확인한다 "
   ]
  },
  {
   "cell_type": "code",
   "execution_count": 96,
   "metadata": {},
   "outputs": [
    {
     "data": {
      "text/plain": [
       "year\n",
       "1997    0\n",
       "1998    0\n",
       "1999    0\n",
       "2000    0\n",
       "2001    0\n",
       "2002    0\n",
       "2003    0\n",
       "2004    0\n",
       "2005    0\n",
       "2006    0\n",
       "2007    0\n",
       "2008    0\n",
       "2009    0\n",
       "2010    0\n",
       "2011    0\n",
       "2012    0\n",
       "2013    0\n",
       "2014    0\n",
       "2015    0\n",
       "2016    0\n",
       "2017    0\n",
       "2018    0\n",
       "2019    0\n",
       "2020    9\n",
       "dtype: int64"
      ]
     },
     "execution_count": 96,
     "metadata": {},
     "output_type": "execute_result"
    }
   ],
   "source": [
    "pivot_wti.isna().sum()  # 결측치 확인"
   ]
  },
  {
   "cell_type": "code",
   "execution_count": 114,
   "metadata": {},
   "outputs": [],
   "source": [
    "## 변화율을 계산하기 위해 12월에 해당하는 것을 하나 더 이동해서 첫번째 행을 추가\n",
    "pivot_wti.loc[0] = pivot_wti.loc[12, :].shift(1)          \n",
    "pivot_wti.fillna(method='ffill', inplace=True)  ## 결측값은 앞의 값으로 대체한다  \n",
    "pivot_wti = pivot_wti.sort_index()"
   ]
  },
  {
   "cell_type": "code",
   "execution_count": 115,
   "metadata": {},
   "outputs": [
    {
     "data": {
      "text/html": [
       "<div>\n",
       "<style scoped>\n",
       "    .dataframe tbody tr th:only-of-type {\n",
       "        vertical-align: middle;\n",
       "    }\n",
       "\n",
       "    .dataframe tbody tr th {\n",
       "        vertical-align: top;\n",
       "    }\n",
       "\n",
       "    .dataframe thead th {\n",
       "        text-align: right;\n",
       "    }\n",
       "</style>\n",
       "<table border=\"1\" class=\"dataframe\">\n",
       "  <thead>\n",
       "    <tr style=\"text-align: right;\">\n",
       "      <th>year</th>\n",
       "      <th>1997</th>\n",
       "      <th>1998</th>\n",
       "      <th>1999</th>\n",
       "      <th>2000</th>\n",
       "      <th>2001</th>\n",
       "      <th>2002</th>\n",
       "      <th>2003</th>\n",
       "      <th>2004</th>\n",
       "      <th>2005</th>\n",
       "      <th>2006</th>\n",
       "      <th>...</th>\n",
       "      <th>2011</th>\n",
       "      <th>2012</th>\n",
       "      <th>2013</th>\n",
       "      <th>2014</th>\n",
       "      <th>2015</th>\n",
       "      <th>2016</th>\n",
       "      <th>2017</th>\n",
       "      <th>2018</th>\n",
       "      <th>2019</th>\n",
       "      <th>2020</th>\n",
       "    </tr>\n",
       "    <tr>\n",
       "      <th>month</th>\n",
       "      <th></th>\n",
       "      <th></th>\n",
       "      <th></th>\n",
       "      <th></th>\n",
       "      <th></th>\n",
       "      <th></th>\n",
       "      <th></th>\n",
       "      <th></th>\n",
       "      <th></th>\n",
       "      <th></th>\n",
       "      <th></th>\n",
       "      <th></th>\n",
       "      <th></th>\n",
       "      <th></th>\n",
       "      <th></th>\n",
       "      <th></th>\n",
       "      <th></th>\n",
       "      <th></th>\n",
       "      <th></th>\n",
       "      <th></th>\n",
       "      <th></th>\n",
       "    </tr>\n",
       "  </thead>\n",
       "  <tbody>\n",
       "    <tr>\n",
       "      <th>0</th>\n",
       "      <td>NaN</td>\n",
       "      <td>18.339524</td>\n",
       "      <td>11.335714</td>\n",
       "      <td>26.051579</td>\n",
       "      <td>28.512105</td>\n",
       "      <td>19.281667</td>\n",
       "      <td>29.303500</td>\n",
       "      <td>32.129048</td>\n",
       "      <td>43.149524</td>\n",
       "      <td>59.474500</td>\n",
       "      <td>...</td>\n",
       "      <td>89.145909</td>\n",
       "      <td>98.426500</td>\n",
       "      <td>87.859500</td>\n",
       "      <td>97.625238</td>\n",
       "      <td>59.290455</td>\n",
       "      <td>37.188636</td>\n",
       "      <td>51.928000</td>\n",
       "      <td>57.793684</td>\n",
       "      <td>49.727647</td>\n",
       "      <td>59.878182</td>\n",
       "    </tr>\n",
       "    <tr>\n",
       "      <th>1</th>\n",
       "      <td>25.025000</td>\n",
       "      <td>16.724000</td>\n",
       "      <td>12.514737</td>\n",
       "      <td>27.259474</td>\n",
       "      <td>29.585714</td>\n",
       "      <td>19.714762</td>\n",
       "      <td>32.947143</td>\n",
       "      <td>34.310000</td>\n",
       "      <td>47.083158</td>\n",
       "      <td>65.485000</td>\n",
       "      <td>...</td>\n",
       "      <td>89.170500</td>\n",
       "      <td>100.273500</td>\n",
       "      <td>94.756667</td>\n",
       "      <td>94.617143</td>\n",
       "      <td>47.219000</td>\n",
       "      <td>31.683158</td>\n",
       "      <td>52.504000</td>\n",
       "      <td>63.698571</td>\n",
       "      <td>51.375714</td>\n",
       "      <td>57.683636</td>\n",
       "    </tr>\n",
       "    <tr>\n",
       "      <th>2</th>\n",
       "      <td>22.169444</td>\n",
       "      <td>16.060000</td>\n",
       "      <td>12.013684</td>\n",
       "      <td>29.366000</td>\n",
       "      <td>29.609474</td>\n",
       "      <td>20.723684</td>\n",
       "      <td>35.828421</td>\n",
       "      <td>34.684737</td>\n",
       "      <td>48.148947</td>\n",
       "      <td>61.631053</td>\n",
       "      <td>...</td>\n",
       "      <td>88.578421</td>\n",
       "      <td>102.204000</td>\n",
       "      <td>95.308947</td>\n",
       "      <td>100.817368</td>\n",
       "      <td>50.584211</td>\n",
       "      <td>30.323000</td>\n",
       "      <td>53.468421</td>\n",
       "      <td>62.229474</td>\n",
       "      <td>54.954737</td>\n",
       "      <td>50.542632</td>\n",
       "    </tr>\n",
       "    <tr>\n",
       "      <th>3</th>\n",
       "      <td>20.944737</td>\n",
       "      <td>15.115455</td>\n",
       "      <td>14.676522</td>\n",
       "      <td>29.754545</td>\n",
       "      <td>27.244545</td>\n",
       "      <td>24.531000</td>\n",
       "      <td>33.513333</td>\n",
       "      <td>36.741304</td>\n",
       "      <td>54.186818</td>\n",
       "      <td>62.685217</td>\n",
       "      <td>...</td>\n",
       "      <td>102.856522</td>\n",
       "      <td>106.157727</td>\n",
       "      <td>92.938500</td>\n",
       "      <td>100.803810</td>\n",
       "      <td>47.823636</td>\n",
       "      <td>37.546364</td>\n",
       "      <td>49.327826</td>\n",
       "      <td>62.724762</td>\n",
       "      <td>58.151429</td>\n",
       "      <td>45.574000</td>\n",
       "    </tr>\n",
       "    <tr>\n",
       "      <th>4</th>\n",
       "      <td>19.695455</td>\n",
       "      <td>15.354000</td>\n",
       "      <td>17.331000</td>\n",
       "      <td>25.628333</td>\n",
       "      <td>27.490000</td>\n",
       "      <td>26.179091</td>\n",
       "      <td>28.170476</td>\n",
       "      <td>36.750000</td>\n",
       "      <td>52.979048</td>\n",
       "      <td>69.396111</td>\n",
       "      <td>...</td>\n",
       "      <td>109.198889</td>\n",
       "      <td>103.330556</td>\n",
       "      <td>92.021364</td>\n",
       "      <td>102.069048</td>\n",
       "      <td>54.452857</td>\n",
       "      <td>40.755238</td>\n",
       "      <td>51.060526</td>\n",
       "      <td>66.414000</td>\n",
       "      <td>63.862381</td>\n",
       "      <td>45.574000</td>\n",
       "    </tr>\n",
       "  </tbody>\n",
       "</table>\n",
       "<p>5 rows × 24 columns</p>\n",
       "</div>"
      ],
      "text/plain": [
       "year        1997       1998       1999       2000       2001       2002  \\\n",
       "month                                                                     \n",
       "0            NaN  18.339524  11.335714  26.051579  28.512105  19.281667   \n",
       "1      25.025000  16.724000  12.514737  27.259474  29.585714  19.714762   \n",
       "2      22.169444  16.060000  12.013684  29.366000  29.609474  20.723684   \n",
       "3      20.944737  15.115455  14.676522  29.754545  27.244545  24.531000   \n",
       "4      19.695455  15.354000  17.331000  25.628333  27.490000  26.179091   \n",
       "\n",
       "year        2003       2004       2005       2006  ...        2011  \\\n",
       "month                                              ...               \n",
       "0      29.303500  32.129048  43.149524  59.474500  ...   89.145909   \n",
       "1      32.947143  34.310000  47.083158  65.485000  ...   89.170500   \n",
       "2      35.828421  34.684737  48.148947  61.631053  ...   88.578421   \n",
       "3      33.513333  36.741304  54.186818  62.685217  ...  102.856522   \n",
       "4      28.170476  36.750000  52.979048  69.396111  ...  109.198889   \n",
       "\n",
       "year         2012       2013        2014       2015       2016       2017  \\\n",
       "month                                                                       \n",
       "0       98.426500  87.859500   97.625238  59.290455  37.188636  51.928000   \n",
       "1      100.273500  94.756667   94.617143  47.219000  31.683158  52.504000   \n",
       "2      102.204000  95.308947  100.817368  50.584211  30.323000  53.468421   \n",
       "3      106.157727  92.938500  100.803810  47.823636  37.546364  49.327826   \n",
       "4      103.330556  92.021364  102.069048  54.452857  40.755238  51.060526   \n",
       "\n",
       "year        2018       2019       2020  \n",
       "month                                   \n",
       "0      57.793684  49.727647  59.878182  \n",
       "1      63.698571  51.375714  57.683636  \n",
       "2      62.229474  54.954737  50.542632  \n",
       "3      62.724762  58.151429  45.574000  \n",
       "4      66.414000  63.862381  45.574000  \n",
       "\n",
       "[5 rows x 24 columns]"
      ]
     },
     "execution_count": 115,
     "metadata": {},
     "output_type": "execute_result"
    }
   ],
   "source": [
    "pivot_wti.head()"
   ]
  },
  {
   "cell_type": "markdown",
   "metadata": {},
   "source": [
    "### 2) 유가 변화율 계산"
   ]
  },
  {
   "cell_type": "code",
   "execution_count": 116,
   "metadata": {},
   "outputs": [
    {
     "data": {
      "text/html": [
       "<div>\n",
       "<style scoped>\n",
       "    .dataframe tbody tr th:only-of-type {\n",
       "        vertical-align: middle;\n",
       "    }\n",
       "\n",
       "    .dataframe tbody tr th {\n",
       "        vertical-align: top;\n",
       "    }\n",
       "\n",
       "    .dataframe thead th {\n",
       "        text-align: right;\n",
       "    }\n",
       "</style>\n",
       "<table border=\"1\" class=\"dataframe\">\n",
       "  <thead>\n",
       "    <tr style=\"text-align: right;\">\n",
       "      <th>year</th>\n",
       "      <th>2016</th>\n",
       "      <th>2017</th>\n",
       "      <th>2018</th>\n",
       "      <th>2019</th>\n",
       "      <th>2020</th>\n",
       "    </tr>\n",
       "    <tr>\n",
       "      <th>month</th>\n",
       "      <th></th>\n",
       "      <th></th>\n",
       "      <th></th>\n",
       "      <th></th>\n",
       "      <th></th>\n",
       "    </tr>\n",
       "  </thead>\n",
       "  <tbody>\n",
       "    <tr>\n",
       "      <th>0</th>\n",
       "      <td>37.188636</td>\n",
       "      <td>51.928000</td>\n",
       "      <td>57.793684</td>\n",
       "      <td>49.727647</td>\n",
       "      <td>59.878182</td>\n",
       "    </tr>\n",
       "    <tr>\n",
       "      <th>1</th>\n",
       "      <td>31.683158</td>\n",
       "      <td>52.504000</td>\n",
       "      <td>63.698571</td>\n",
       "      <td>51.375714</td>\n",
       "      <td>57.683636</td>\n",
       "    </tr>\n",
       "    <tr>\n",
       "      <th>2</th>\n",
       "      <td>30.323000</td>\n",
       "      <td>53.468421</td>\n",
       "      <td>62.229474</td>\n",
       "      <td>54.954737</td>\n",
       "      <td>50.542632</td>\n",
       "    </tr>\n",
       "    <tr>\n",
       "      <th>3</th>\n",
       "      <td>37.546364</td>\n",
       "      <td>49.327826</td>\n",
       "      <td>62.724762</td>\n",
       "      <td>58.151429</td>\n",
       "      <td>45.574000</td>\n",
       "    </tr>\n",
       "    <tr>\n",
       "      <th>4</th>\n",
       "      <td>40.755238</td>\n",
       "      <td>51.060526</td>\n",
       "      <td>66.414000</td>\n",
       "      <td>63.862381</td>\n",
       "      <td>45.574000</td>\n",
       "    </tr>\n",
       "  </tbody>\n",
       "</table>\n",
       "</div>"
      ],
      "text/plain": [
       "year        2016       2017       2018       2019       2020\n",
       "month                                                       \n",
       "0      37.188636  51.928000  57.793684  49.727647  59.878182\n",
       "1      31.683158  52.504000  63.698571  51.375714  57.683636\n",
       "2      30.323000  53.468421  62.229474  54.954737  50.542632\n",
       "3      37.546364  49.327826  62.724762  58.151429  45.574000\n",
       "4      40.755238  51.060526  66.414000  63.862381  45.574000"
      ]
     },
     "execution_count": 116,
     "metadata": {},
     "output_type": "execute_result"
    }
   ],
   "source": [
    "pivot_wti[[*pivot_wti.columns[-5:]]].head()"
   ]
  },
  {
   "cell_type": "markdown",
   "metadata": {},
   "source": [
    "### 3) pct_change() 메소드로 변화율을 구한다."
   ]
  },
  {
   "cell_type": "code",
   "execution_count": 117,
   "metadata": {},
   "outputs": [],
   "source": [
    "wmc = pivot_wti.pct_change()                               ## 변화률을 구한다 \n",
    "wmc = wmc.drop(wmc.index[0])                               ## 0번 행을 제거한다 "
   ]
  },
  {
   "cell_type": "code",
   "execution_count": 118,
   "metadata": {},
   "outputs": [
    {
     "data": {
      "text/html": [
       "<div>\n",
       "<style scoped>\n",
       "    .dataframe tbody tr th:only-of-type {\n",
       "        vertical-align: middle;\n",
       "    }\n",
       "\n",
       "    .dataframe tbody tr th {\n",
       "        vertical-align: top;\n",
       "    }\n",
       "\n",
       "    .dataframe thead th {\n",
       "        text-align: right;\n",
       "    }\n",
       "</style>\n",
       "<table border=\"1\" class=\"dataframe\">\n",
       "  <thead>\n",
       "    <tr style=\"text-align: right;\">\n",
       "      <th>year</th>\n",
       "      <th>2016</th>\n",
       "      <th>2017</th>\n",
       "      <th>2018</th>\n",
       "      <th>2019</th>\n",
       "      <th>2020</th>\n",
       "    </tr>\n",
       "    <tr>\n",
       "      <th>month</th>\n",
       "      <th></th>\n",
       "      <th></th>\n",
       "      <th></th>\n",
       "      <th></th>\n",
       "      <th></th>\n",
       "    </tr>\n",
       "  </thead>\n",
       "  <tbody>\n",
       "    <tr>\n",
       "      <th>1</th>\n",
       "      <td>-0.148042</td>\n",
       "      <td>0.011092</td>\n",
       "      <td>0.102172</td>\n",
       "      <td>0.033142</td>\n",
       "      <td>-0.036650</td>\n",
       "    </tr>\n",
       "    <tr>\n",
       "      <th>2</th>\n",
       "      <td>-0.042930</td>\n",
       "      <td>0.018369</td>\n",
       "      <td>-0.023063</td>\n",
       "      <td>0.069664</td>\n",
       "      <td>-0.123796</td>\n",
       "    </tr>\n",
       "    <tr>\n",
       "      <th>3</th>\n",
       "      <td>0.238214</td>\n",
       "      <td>-0.077440</td>\n",
       "      <td>0.007959</td>\n",
       "      <td>0.058170</td>\n",
       "      <td>-0.098306</td>\n",
       "    </tr>\n",
       "    <tr>\n",
       "      <th>4</th>\n",
       "      <td>0.085464</td>\n",
       "      <td>0.035126</td>\n",
       "      <td>0.058816</td>\n",
       "      <td>0.098208</td>\n",
       "      <td>0.000000</td>\n",
       "    </tr>\n",
       "    <tr>\n",
       "      <th>5</th>\n",
       "      <td>0.146169</td>\n",
       "      <td>-0.050610</td>\n",
       "      <td>0.053120</td>\n",
       "      <td>-0.047533</td>\n",
       "      <td>0.000000</td>\n",
       "    </tr>\n",
       "  </tbody>\n",
       "</table>\n",
       "</div>"
      ],
      "text/plain": [
       "year       2016      2017      2018      2019      2020\n",
       "month                                                  \n",
       "1     -0.148042  0.011092  0.102172  0.033142 -0.036650\n",
       "2     -0.042930  0.018369 -0.023063  0.069664 -0.123796\n",
       "3      0.238214 -0.077440  0.007959  0.058170 -0.098306\n",
       "4      0.085464  0.035126  0.058816  0.098208  0.000000\n",
       "5      0.146169 -0.050610  0.053120 -0.047533  0.000000"
      ]
     },
     "execution_count": 118,
     "metadata": {},
     "output_type": "execute_result"
    }
   ],
   "source": [
    "wmc[[*wmc.columns[-5:]]].head()                                 ## 변화를을 확인한다 "
   ]
  },
  {
   "cell_type": "markdown",
   "metadata": {},
   "source": [
    "### 4) 가격의 상승과 하락의 차이를 비교해서 새로운 데이타프레임에 두개의 컬럼으로 넣는다."
   ]
  },
  {
   "cell_type": "code",
   "execution_count": 119,
   "metadata": {},
   "outputs": [],
   "source": [
    "wmc_r_c = pd.DataFrame()                                            ## 새로운 데이터프레임을 하나 만든다 \n",
    "wmc_r_c['raise'] = wmc[wmc > 0].count(axis=1)/len(wmc.columns)       ## 오른 배율을 추가한다 \n",
    "wmc_r_c['decline'] = wmc[wmc < 0].count(axis=1)/len(wmc.columns)      ## 내린 비율을 추가한다 \n",
    "wmc_r_c['sum']  = wmc_r_c['raise']  + wmc_r_c['decline']              ## 합산을 한다. "
   ]
  },
  {
   "cell_type": "code",
   "execution_count": 120,
   "metadata": {},
   "outputs": [
    {
     "data": {
      "text/html": [
       "<div>\n",
       "<style scoped>\n",
       "    .dataframe tbody tr th:only-of-type {\n",
       "        vertical-align: middle;\n",
       "    }\n",
       "\n",
       "    .dataframe tbody tr th {\n",
       "        vertical-align: top;\n",
       "    }\n",
       "\n",
       "    .dataframe thead th {\n",
       "        text-align: right;\n",
       "    }\n",
       "</style>\n",
       "<table border=\"1\" class=\"dataframe\">\n",
       "  <thead>\n",
       "    <tr style=\"text-align: right;\">\n",
       "      <th></th>\n",
       "      <th>raise</th>\n",
       "      <th>decline</th>\n",
       "      <th>sum</th>\n",
       "    </tr>\n",
       "    <tr>\n",
       "      <th>month</th>\n",
       "      <th></th>\n",
       "      <th></th>\n",
       "      <th></th>\n",
       "    </tr>\n",
       "  </thead>\n",
       "  <tbody>\n",
       "    <tr>\n",
       "      <th>1</th>\n",
       "      <td>0.708333</td>\n",
       "      <td>0.250000</td>\n",
       "      <td>0.958333</td>\n",
       "    </tr>\n",
       "    <tr>\n",
       "      <th>2</th>\n",
       "      <td>0.583333</td>\n",
       "      <td>0.416667</td>\n",
       "      <td>1.000000</td>\n",
       "    </tr>\n",
       "    <tr>\n",
       "      <th>3</th>\n",
       "      <td>0.625000</td>\n",
       "      <td>0.375000</td>\n",
       "      <td>1.000000</td>\n",
       "    </tr>\n",
       "    <tr>\n",
       "      <th>4</th>\n",
       "      <td>0.708333</td>\n",
       "      <td>0.250000</td>\n",
       "      <td>0.958333</td>\n",
       "    </tr>\n",
       "    <tr>\n",
       "      <th>5</th>\n",
       "      <td>0.583333</td>\n",
       "      <td>0.375000</td>\n",
       "      <td>0.958333</td>\n",
       "    </tr>\n",
       "    <tr>\n",
       "      <th>6</th>\n",
       "      <td>0.541667</td>\n",
       "      <td>0.416667</td>\n",
       "      <td>0.958333</td>\n",
       "    </tr>\n",
       "    <tr>\n",
       "      <th>7</th>\n",
       "      <td>0.666667</td>\n",
       "      <td>0.291667</td>\n",
       "      <td>0.958333</td>\n",
       "    </tr>\n",
       "    <tr>\n",
       "      <th>8</th>\n",
       "      <td>0.583333</td>\n",
       "      <td>0.375000</td>\n",
       "      <td>0.958333</td>\n",
       "    </tr>\n",
       "    <tr>\n",
       "      <th>9</th>\n",
       "      <td>0.541667</td>\n",
       "      <td>0.416667</td>\n",
       "      <td>0.958333</td>\n",
       "    </tr>\n",
       "    <tr>\n",
       "      <th>10</th>\n",
       "      <td>0.458333</td>\n",
       "      <td>0.500000</td>\n",
       "      <td>0.958333</td>\n",
       "    </tr>\n",
       "    <tr>\n",
       "      <th>11</th>\n",
       "      <td>0.416667</td>\n",
       "      <td>0.541667</td>\n",
       "      <td>0.958333</td>\n",
       "    </tr>\n",
       "    <tr>\n",
       "      <th>12</th>\n",
       "      <td>0.500000</td>\n",
       "      <td>0.458333</td>\n",
       "      <td>0.958333</td>\n",
       "    </tr>\n",
       "  </tbody>\n",
       "</table>\n",
       "</div>"
      ],
      "text/plain": [
       "          raise   decline       sum\n",
       "month                              \n",
       "1      0.708333  0.250000  0.958333\n",
       "2      0.583333  0.416667  1.000000\n",
       "3      0.625000  0.375000  1.000000\n",
       "4      0.708333  0.250000  0.958333\n",
       "5      0.583333  0.375000  0.958333\n",
       "6      0.541667  0.416667  0.958333\n",
       "7      0.666667  0.291667  0.958333\n",
       "8      0.583333  0.375000  0.958333\n",
       "9      0.541667  0.416667  0.958333\n",
       "10     0.458333  0.500000  0.958333\n",
       "11     0.416667  0.541667  0.958333\n",
       "12     0.500000  0.458333  0.958333"
      ]
     },
     "execution_count": 120,
     "metadata": {},
     "output_type": "execute_result"
    }
   ],
   "source": [
    "wmc_r_c"
   ]
  },
  {
   "cell_type": "markdown",
   "metadata": {},
   "source": [
    "### 5) 막대 그래프로 시각화 "
   ]
  },
  {
   "cell_type": "code",
   "execution_count": 121,
   "metadata": {},
   "outputs": [
    {
     "data": {
      "text/plain": [
       "<matplotlib.axes._subplots.AxesSubplot at 0x1f6dccf7208>"
      ]
     },
     "execution_count": 121,
     "metadata": {},
     "output_type": "execute_result"
    },
    {
     "data": {
      "image/png": "[encoded data removed]",
      "text/plain": [
       "<Figure size 432x288 with 1 Axes>"
      ]
     },
     "metadata": {
      "needs_background": "light"
     },
     "output_type": "display_data"
    }
   ],
   "source": [
    "wmc_r_c[['raise','decline']].plot.bar()                      ## 오른 것과 내린 것을 막대그래프로 확인한다 "
   ]
  },
  {
   "cell_type": "markdown",
   "metadata": {},
   "source": [
    "- 1월 ~ 9월까지는 상승, 10월 ~ 12월은 하락"
   ]
  },
  {
   "cell_type": "code",
   "execution_count": null,
   "metadata": {},
   "outputs": [],
   "source": []
  },
  {
   "cell_type": "code",
   "execution_count": null,
   "metadata": {},
   "outputs": [],
   "source": []
  },
  {
   "cell_type": "code",
   "execution_count": null,
   "metadata": {},
   "outputs": [],
   "source": []
  },
  {
   "cell_type": "code",
   "execution_count": null,
   "metadata": {},
   "outputs": [],
   "source": []
  },
  {
   "cell_type": "code",
   "execution_count": null,
   "metadata": {},
   "outputs": [],
   "source": []
  },
  {
   "cell_type": "code",
   "execution_count": 60,
   "metadata": {},
   "outputs": [],
   "source": [
    "pivot_brent = total_df.pivot_table(values='Brent', \n",
    "                                   columns=['year'], \n",
    "                                   index=['month'], \n",
    "                                   aggfunc=np.mean)"
   ]
  },
  {
   "cell_type": "code",
   "execution_count": 61,
   "metadata": {},
   "outputs": [
    {
     "data": {
      "text/html": [
       "<div>\n",
       "<style scoped>\n",
       "    .dataframe tbody tr th:only-of-type {\n",
       "        vertical-align: middle;\n",
       "    }\n",
       "\n",
       "    .dataframe tbody tr th {\n",
       "        vertical-align: top;\n",
       "    }\n",
       "\n",
       "    .dataframe thead th {\n",
       "        text-align: right;\n",
       "    }\n",
       "</style>\n",
       "<table border=\"1\" class=\"dataframe\">\n",
       "  <thead>\n",
       "    <tr style=\"text-align: right;\">\n",
       "      <th>year</th>\n",
       "      <th>1997</th>\n",
       "      <th>1998</th>\n",
       "      <th>1999</th>\n",
       "      <th>2000</th>\n",
       "      <th>2001</th>\n",
       "    </tr>\n",
       "    <tr>\n",
       "      <th>month</th>\n",
       "      <th></th>\n",
       "      <th></th>\n",
       "      <th></th>\n",
       "      <th></th>\n",
       "      <th></th>\n",
       "    </tr>\n",
       "  </thead>\n",
       "  <tbody>\n",
       "    <tr>\n",
       "      <th>1</th>\n",
       "      <td>23.382778</td>\n",
       "      <td>15.177000</td>\n",
       "      <td>11.130526</td>\n",
       "      <td>25.485789</td>\n",
       "      <td>25.605238</td>\n",
       "    </tr>\n",
       "    <tr>\n",
       "      <th>2</th>\n",
       "      <td>20.871111</td>\n",
       "      <td>14.099474</td>\n",
       "      <td>10.271579</td>\n",
       "      <td>27.818000</td>\n",
       "      <td>27.527368</td>\n",
       "    </tr>\n",
       "    <tr>\n",
       "      <th>3</th>\n",
       "      <td>19.164737</td>\n",
       "      <td>13.103182</td>\n",
       "      <td>12.511304</td>\n",
       "      <td>27.418636</td>\n",
       "      <td>24.497273</td>\n",
       "    </tr>\n",
       "    <tr>\n",
       "      <th>4</th>\n",
       "      <td>17.555909</td>\n",
       "      <td>13.526500</td>\n",
       "      <td>15.294500</td>\n",
       "      <td>22.764444</td>\n",
       "      <td>25.600000</td>\n",
       "    </tr>\n",
       "    <tr>\n",
       "      <th>5</th>\n",
       "      <td>19.022857</td>\n",
       "      <td>14.363158</td>\n",
       "      <td>15.225263</td>\n",
       "      <td>27.737619</td>\n",
       "      <td>28.313636</td>\n",
       "    </tr>\n",
       "  </tbody>\n",
       "</table>\n",
       "</div>"
      ],
      "text/plain": [
       "year        1997       1998       1999       2000       2001\n",
       "month                                                       \n",
       "1      23.382778  15.177000  11.130526  25.485789  25.605238\n",
       "2      20.871111  14.099474  10.271579  27.818000  27.527368\n",
       "3      19.164737  13.103182  12.511304  27.418636  24.497273\n",
       "4      17.555909  13.526500  15.294500  22.764444  25.600000\n",
       "5      19.022857  14.363158  15.225263  27.737619  28.313636"
      ]
     },
     "execution_count": 61,
     "metadata": {},
     "output_type": "execute_result"
    }
   ],
   "source": [
    "pivot_brent[[*pivot_brent.columns[:5]]].head()"
   ]
  },
  {
   "cell_type": "code",
   "execution_count": null,
   "metadata": {},
   "outputs": [],
   "source": []
  },
  {
   "cell_type": "code",
   "execution_count": 62,
   "metadata": {},
   "outputs": [
    {
     "data": {
      "text/html": [
       "<div>\n",
       "<style scoped>\n",
       "    .dataframe tbody tr th:only-of-type {\n",
       "        vertical-align: middle;\n",
       "    }\n",
       "\n",
       "    .dataframe tbody tr th {\n",
       "        vertical-align: top;\n",
       "    }\n",
       "\n",
       "    .dataframe thead th {\n",
       "        text-align: right;\n",
       "    }\n",
       "</style>\n",
       "<table border=\"1\" class=\"dataframe\">\n",
       "  <thead>\n",
       "    <tr style=\"text-align: right;\">\n",
       "      <th>year</th>\n",
       "      <th>1997</th>\n",
       "      <th>1998</th>\n",
       "      <th>1999</th>\n",
       "      <th>2000</th>\n",
       "      <th>2001</th>\n",
       "    </tr>\n",
       "    <tr>\n",
       "      <th>month</th>\n",
       "      <th></th>\n",
       "      <th></th>\n",
       "      <th></th>\n",
       "      <th></th>\n",
       "      <th></th>\n",
       "    </tr>\n",
       "  </thead>\n",
       "  <tbody>\n",
       "    <tr>\n",
       "      <th>1</th>\n",
       "      <td>NaN</td>\n",
       "      <td>NaN</td>\n",
       "      <td>NaN</td>\n",
       "      <td>NaN</td>\n",
       "      <td>NaN</td>\n",
       "    </tr>\n",
       "    <tr>\n",
       "      <th>2</th>\n",
       "      <td>-0.107415</td>\n",
       "      <td>-0.070997</td>\n",
       "      <td>-0.077170</td>\n",
       "      <td>0.091510</td>\n",
       "      <td>0.075068</td>\n",
       "    </tr>\n",
       "    <tr>\n",
       "      <th>3</th>\n",
       "      <td>-0.081758</td>\n",
       "      <td>-0.070662</td>\n",
       "      <td>0.218051</td>\n",
       "      <td>-0.014356</td>\n",
       "      <td>-0.110076</td>\n",
       "    </tr>\n",
       "    <tr>\n",
       "      <th>4</th>\n",
       "      <td>-0.083947</td>\n",
       "      <td>0.032307</td>\n",
       "      <td>0.222454</td>\n",
       "      <td>-0.169746</td>\n",
       "      <td>0.045014</td>\n",
       "    </tr>\n",
       "    <tr>\n",
       "      <th>5</th>\n",
       "      <td>0.083559</td>\n",
       "      <td>0.061853</td>\n",
       "      <td>-0.004527</td>\n",
       "      <td>0.218462</td>\n",
       "      <td>0.106001</td>\n",
       "    </tr>\n",
       "  </tbody>\n",
       "</table>\n",
       "</div>"
      ],
      "text/plain": [
       "year       1997      1998      1999      2000      2001\n",
       "month                                                  \n",
       "1           NaN       NaN       NaN       NaN       NaN\n",
       "2     -0.107415 -0.070997 -0.077170  0.091510  0.075068\n",
       "3     -0.081758 -0.070662  0.218051 -0.014356 -0.110076\n",
       "4     -0.083947  0.032307  0.222454 -0.169746  0.045014\n",
       "5      0.083559  0.061853 -0.004527  0.218462  0.106001"
      ]
     },
     "execution_count": 62,
     "metadata": {},
     "output_type": "execute_result"
    }
   ],
   "source": [
    "pivot_brent.pct_change()[[*pivot_brent.columns[:5]]].head()"
   ]
  },
  {
   "cell_type": "code",
   "execution_count": null,
   "metadata": {},
   "outputs": [],
   "source": []
  },
  {
   "cell_type": "code",
   "execution_count": 63,
   "metadata": {},
   "outputs": [],
   "source": [
    "pivot_brent.loc[0] = pivot_brent.loc[12, :].shift(1)"
   ]
  },
  {
   "cell_type": "code",
   "execution_count": 64,
   "metadata": {},
   "outputs": [
    {
     "data": {
      "text/html": [
       "<div>\n",
       "<style scoped>\n",
       "    .dataframe tbody tr th:only-of-type {\n",
       "        vertical-align: middle;\n",
       "    }\n",
       "\n",
       "    .dataframe tbody tr th {\n",
       "        vertical-align: top;\n",
       "    }\n",
       "\n",
       "    .dataframe thead th {\n",
       "        text-align: right;\n",
       "    }\n",
       "</style>\n",
       "<table border=\"1\" class=\"dataframe\">\n",
       "  <thead>\n",
       "    <tr style=\"text-align: right;\">\n",
       "      <th>year</th>\n",
       "      <th>1997</th>\n",
       "      <th>1998</th>\n",
       "      <th>1999</th>\n",
       "      <th>2000</th>\n",
       "      <th>2001</th>\n",
       "    </tr>\n",
       "    <tr>\n",
       "      <th>month</th>\n",
       "      <th></th>\n",
       "      <th></th>\n",
       "      <th></th>\n",
       "      <th></th>\n",
       "      <th></th>\n",
       "    </tr>\n",
       "  </thead>\n",
       "  <tbody>\n",
       "    <tr>\n",
       "      <th>1</th>\n",
       "      <td>23.382778</td>\n",
       "      <td>15.177000</td>\n",
       "      <td>11.130526</td>\n",
       "      <td>25.485789</td>\n",
       "      <td>25.605238</td>\n",
       "    </tr>\n",
       "    <tr>\n",
       "      <th>2</th>\n",
       "      <td>20.871111</td>\n",
       "      <td>14.099474</td>\n",
       "      <td>10.271579</td>\n",
       "      <td>27.818000</td>\n",
       "      <td>27.527368</td>\n",
       "    </tr>\n",
       "    <tr>\n",
       "      <th>3</th>\n",
       "      <td>19.164737</td>\n",
       "      <td>13.103182</td>\n",
       "      <td>12.511304</td>\n",
       "      <td>27.418636</td>\n",
       "      <td>24.497273</td>\n",
       "    </tr>\n",
       "    <tr>\n",
       "      <th>4</th>\n",
       "      <td>17.555909</td>\n",
       "      <td>13.526500</td>\n",
       "      <td>15.294500</td>\n",
       "      <td>22.764444</td>\n",
       "      <td>25.600000</td>\n",
       "    </tr>\n",
       "    <tr>\n",
       "      <th>5</th>\n",
       "      <td>19.022857</td>\n",
       "      <td>14.363158</td>\n",
       "      <td>15.225263</td>\n",
       "      <td>27.737619</td>\n",
       "      <td>28.313636</td>\n",
       "    </tr>\n",
       "  </tbody>\n",
       "</table>\n",
       "</div>"
      ],
      "text/plain": [
       "year        1997       1998       1999       2000       2001\n",
       "month                                                       \n",
       "1      23.382778  15.177000  11.130526  25.485789  25.605238\n",
       "2      20.871111  14.099474  10.271579  27.818000  27.527368\n",
       "3      19.164737  13.103182  12.511304  27.418636  24.497273\n",
       "4      17.555909  13.526500  15.294500  22.764444  25.600000\n",
       "5      19.022857  14.363158  15.225263  27.737619  28.313636"
      ]
     },
     "execution_count": 64,
     "metadata": {},
     "output_type": "execute_result"
    }
   ],
   "source": [
    "pivot_brent[[*pivot_brent.columns[:5]]].head()"
   ]
  },
  {
   "cell_type": "code",
   "execution_count": 65,
   "metadata": {},
   "outputs": [],
   "source": [
    "pivot_brent.fillna(method='ffill', inplace=True)"
   ]
  },
  {
   "cell_type": "code",
   "execution_count": 66,
   "metadata": {},
   "outputs": [],
   "source": [
    "pivot_brent = pivot_brent.sort_index()"
   ]
  },
  {
   "cell_type": "code",
   "execution_count": 67,
   "metadata": {},
   "outputs": [
    {
     "data": {
      "text/html": [
       "<div>\n",
       "<style scoped>\n",
       "    .dataframe tbody tr th:only-of-type {\n",
       "        vertical-align: middle;\n",
       "    }\n",
       "\n",
       "    .dataframe tbody tr th {\n",
       "        vertical-align: top;\n",
       "    }\n",
       "\n",
       "    .dataframe thead th {\n",
       "        text-align: right;\n",
       "    }\n",
       "</style>\n",
       "<table border=\"1\" class=\"dataframe\">\n",
       "  <thead>\n",
       "    <tr style=\"text-align: right;\">\n",
       "      <th>year</th>\n",
       "      <th>1997</th>\n",
       "      <th>1998</th>\n",
       "      <th>1999</th>\n",
       "      <th>2000</th>\n",
       "      <th>2001</th>\n",
       "    </tr>\n",
       "    <tr>\n",
       "      <th>month</th>\n",
       "      <th></th>\n",
       "      <th></th>\n",
       "      <th></th>\n",
       "      <th></th>\n",
       "      <th></th>\n",
       "    </tr>\n",
       "  </thead>\n",
       "  <tbody>\n",
       "    <tr>\n",
       "      <th>0</th>\n",
       "      <td>17.181905</td>\n",
       "      <td>17.181905</td>\n",
       "      <td>9.824286</td>\n",
       "      <td>25.473158</td>\n",
       "      <td>25.660000</td>\n",
       "    </tr>\n",
       "    <tr>\n",
       "      <th>1</th>\n",
       "      <td>23.382778</td>\n",
       "      <td>15.177000</td>\n",
       "      <td>11.130526</td>\n",
       "      <td>25.485789</td>\n",
       "      <td>25.605238</td>\n",
       "    </tr>\n",
       "    <tr>\n",
       "      <th>2</th>\n",
       "      <td>20.871111</td>\n",
       "      <td>14.099474</td>\n",
       "      <td>10.271579</td>\n",
       "      <td>27.818000</td>\n",
       "      <td>27.527368</td>\n",
       "    </tr>\n",
       "    <tr>\n",
       "      <th>3</th>\n",
       "      <td>19.164737</td>\n",
       "      <td>13.103182</td>\n",
       "      <td>12.511304</td>\n",
       "      <td>27.418636</td>\n",
       "      <td>24.497273</td>\n",
       "    </tr>\n",
       "    <tr>\n",
       "      <th>4</th>\n",
       "      <td>17.555909</td>\n",
       "      <td>13.526500</td>\n",
       "      <td>15.294500</td>\n",
       "      <td>22.764444</td>\n",
       "      <td>25.600000</td>\n",
       "    </tr>\n",
       "  </tbody>\n",
       "</table>\n",
       "</div>"
      ],
      "text/plain": [
       "year        1997       1998       1999       2000       2001\n",
       "month                                                       \n",
       "0      17.181905  17.181905   9.824286  25.473158  25.660000\n",
       "1      23.382778  15.177000  11.130526  25.485789  25.605238\n",
       "2      20.871111  14.099474  10.271579  27.818000  27.527368\n",
       "3      19.164737  13.103182  12.511304  27.418636  24.497273\n",
       "4      17.555909  13.526500  15.294500  22.764444  25.600000"
      ]
     },
     "execution_count": 67,
     "metadata": {},
     "output_type": "execute_result"
    }
   ],
   "source": [
    "pivot_brent[[*pivot_brent.columns[:5]]].head()"
   ]
  },
  {
   "cell_type": "code",
   "execution_count": null,
   "metadata": {},
   "outputs": [],
   "source": []
  },
  {
   "cell_type": "code",
   "execution_count": 68,
   "metadata": {},
   "outputs": [],
   "source": [
    "bmc = pivot_brent.pct_change()"
   ]
  },
  {
   "cell_type": "code",
   "execution_count": 69,
   "metadata": {},
   "outputs": [
    {
     "data": {
      "text/html": [
       "<div>\n",
       "<style scoped>\n",
       "    .dataframe tbody tr th:only-of-type {\n",
       "        vertical-align: middle;\n",
       "    }\n",
       "\n",
       "    .dataframe tbody tr th {\n",
       "        vertical-align: top;\n",
       "    }\n",
       "\n",
       "    .dataframe thead th {\n",
       "        text-align: right;\n",
       "    }\n",
       "</style>\n",
       "<table border=\"1\" class=\"dataframe\">\n",
       "  <thead>\n",
       "    <tr style=\"text-align: right;\">\n",
       "      <th>year</th>\n",
       "      <th>1997</th>\n",
       "      <th>1998</th>\n",
       "      <th>1999</th>\n",
       "      <th>2000</th>\n",
       "      <th>2001</th>\n",
       "    </tr>\n",
       "    <tr>\n",
       "      <th>month</th>\n",
       "      <th></th>\n",
       "      <th></th>\n",
       "      <th></th>\n",
       "      <th></th>\n",
       "      <th></th>\n",
       "    </tr>\n",
       "  </thead>\n",
       "  <tbody>\n",
       "    <tr>\n",
       "      <th>0</th>\n",
       "      <td>NaN</td>\n",
       "      <td>NaN</td>\n",
       "      <td>NaN</td>\n",
       "      <td>NaN</td>\n",
       "      <td>NaN</td>\n",
       "    </tr>\n",
       "    <tr>\n",
       "      <th>1</th>\n",
       "      <td>0.360896</td>\n",
       "      <td>-0.116687</td>\n",
       "      <td>0.132960</td>\n",
       "      <td>0.000496</td>\n",
       "      <td>-0.002134</td>\n",
       "    </tr>\n",
       "    <tr>\n",
       "      <th>2</th>\n",
       "      <td>-0.107415</td>\n",
       "      <td>-0.070997</td>\n",
       "      <td>-0.077170</td>\n",
       "      <td>0.091510</td>\n",
       "      <td>0.075068</td>\n",
       "    </tr>\n",
       "    <tr>\n",
       "      <th>3</th>\n",
       "      <td>-0.081758</td>\n",
       "      <td>-0.070662</td>\n",
       "      <td>0.218051</td>\n",
       "      <td>-0.014356</td>\n",
       "      <td>-0.110076</td>\n",
       "    </tr>\n",
       "    <tr>\n",
       "      <th>4</th>\n",
       "      <td>-0.083947</td>\n",
       "      <td>0.032307</td>\n",
       "      <td>0.222454</td>\n",
       "      <td>-0.169746</td>\n",
       "      <td>0.045014</td>\n",
       "    </tr>\n",
       "  </tbody>\n",
       "</table>\n",
       "</div>"
      ],
      "text/plain": [
       "year       1997      1998      1999      2000      2001\n",
       "month                                                  \n",
       "0           NaN       NaN       NaN       NaN       NaN\n",
       "1      0.360896 -0.116687  0.132960  0.000496 -0.002134\n",
       "2     -0.107415 -0.070997 -0.077170  0.091510  0.075068\n",
       "3     -0.081758 -0.070662  0.218051 -0.014356 -0.110076\n",
       "4     -0.083947  0.032307  0.222454 -0.169746  0.045014"
      ]
     },
     "execution_count": 69,
     "metadata": {},
     "output_type": "execute_result"
    }
   ],
   "source": [
    "bmc[[*bmc.columns[:5]]].head()"
   ]
  },
  {
   "cell_type": "code",
   "execution_count": null,
   "metadata": {},
   "outputs": [],
   "source": []
  },
  {
   "cell_type": "code",
   "execution_count": 70,
   "metadata": {},
   "outputs": [],
   "source": [
    "bmc = bmc.drop(bmc.index[0])"
   ]
  },
  {
   "cell_type": "code",
   "execution_count": 71,
   "metadata": {},
   "outputs": [
    {
     "data": {
      "text/html": [
       "<div>\n",
       "<style scoped>\n",
       "    .dataframe tbody tr th:only-of-type {\n",
       "        vertical-align: middle;\n",
       "    }\n",
       "\n",
       "    .dataframe tbody tr th {\n",
       "        vertical-align: top;\n",
       "    }\n",
       "\n",
       "    .dataframe thead th {\n",
       "        text-align: right;\n",
       "    }\n",
       "</style>\n",
       "<table border=\"1\" class=\"dataframe\">\n",
       "  <thead>\n",
       "    <tr style=\"text-align: right;\">\n",
       "      <th>year</th>\n",
       "      <th>1997</th>\n",
       "      <th>1998</th>\n",
       "      <th>1999</th>\n",
       "      <th>2000</th>\n",
       "      <th>2001</th>\n",
       "    </tr>\n",
       "    <tr>\n",
       "      <th>month</th>\n",
       "      <th></th>\n",
       "      <th></th>\n",
       "      <th></th>\n",
       "      <th></th>\n",
       "      <th></th>\n",
       "    </tr>\n",
       "  </thead>\n",
       "  <tbody>\n",
       "    <tr>\n",
       "      <th>1</th>\n",
       "      <td>0.360896</td>\n",
       "      <td>-0.116687</td>\n",
       "      <td>0.132960</td>\n",
       "      <td>0.000496</td>\n",
       "      <td>-0.002134</td>\n",
       "    </tr>\n",
       "    <tr>\n",
       "      <th>2</th>\n",
       "      <td>-0.107415</td>\n",
       "      <td>-0.070997</td>\n",
       "      <td>-0.077170</td>\n",
       "      <td>0.091510</td>\n",
       "      <td>0.075068</td>\n",
       "    </tr>\n",
       "    <tr>\n",
       "      <th>3</th>\n",
       "      <td>-0.081758</td>\n",
       "      <td>-0.070662</td>\n",
       "      <td>0.218051</td>\n",
       "      <td>-0.014356</td>\n",
       "      <td>-0.110076</td>\n",
       "    </tr>\n",
       "    <tr>\n",
       "      <th>4</th>\n",
       "      <td>-0.083947</td>\n",
       "      <td>0.032307</td>\n",
       "      <td>0.222454</td>\n",
       "      <td>-0.169746</td>\n",
       "      <td>0.045014</td>\n",
       "    </tr>\n",
       "    <tr>\n",
       "      <th>5</th>\n",
       "      <td>0.083559</td>\n",
       "      <td>0.061853</td>\n",
       "      <td>-0.004527</td>\n",
       "      <td>0.218462</td>\n",
       "      <td>0.106001</td>\n",
       "    </tr>\n",
       "  </tbody>\n",
       "</table>\n",
       "</div>"
      ],
      "text/plain": [
       "year       1997      1998      1999      2000      2001\n",
       "month                                                  \n",
       "1      0.360896 -0.116687  0.132960  0.000496 -0.002134\n",
       "2     -0.107415 -0.070997 -0.077170  0.091510  0.075068\n",
       "3     -0.081758 -0.070662  0.218051 -0.014356 -0.110076\n",
       "4     -0.083947  0.032307  0.222454 -0.169746  0.045014\n",
       "5      0.083559  0.061853 -0.004527  0.218462  0.106001"
      ]
     },
     "execution_count": 71,
     "metadata": {},
     "output_type": "execute_result"
    }
   ],
   "source": [
    "bmc[[*bmc.columns[:5]]].head()"
   ]
  },
  {
   "cell_type": "code",
   "execution_count": null,
   "metadata": {},
   "outputs": [],
   "source": []
  },
  {
   "cell_type": "code",
   "execution_count": 72,
   "metadata": {},
   "outputs": [],
   "source": [
    "bmc_r_c = pd.DataFrame()"
   ]
  },
  {
   "cell_type": "code",
   "execution_count": 73,
   "metadata": {},
   "outputs": [],
   "source": [
    "bmc_r_c['raise'] = bmc[bmc > 0].count(axis=1)/len(bmc.columns)"
   ]
  },
  {
   "cell_type": "code",
   "execution_count": 74,
   "metadata": {},
   "outputs": [],
   "source": [
    "bmc_r_c['decline'] = bmc[bmc < 0].count(axis=1)/len(bmc.columns)"
   ]
  },
  {
   "cell_type": "code",
   "execution_count": 75,
   "metadata": {},
   "outputs": [],
   "source": [
    "bmc_r_c['sum']  = bmc_r_c['raise']  + bmc_r_c['decline']"
   ]
  },
  {
   "cell_type": "code",
   "execution_count": 76,
   "metadata": {},
   "outputs": [
    {
     "data": {
      "text/html": [
       "<div>\n",
       "<style scoped>\n",
       "    .dataframe tbody tr th:only-of-type {\n",
       "        vertical-align: middle;\n",
       "    }\n",
       "\n",
       "    .dataframe tbody tr th {\n",
       "        vertical-align: top;\n",
       "    }\n",
       "\n",
       "    .dataframe thead th {\n",
       "        text-align: right;\n",
       "    }\n",
       "</style>\n",
       "<table border=\"1\" class=\"dataframe\">\n",
       "  <thead>\n",
       "    <tr style=\"text-align: right;\">\n",
       "      <th></th>\n",
       "      <th>raise</th>\n",
       "      <th>decline</th>\n",
       "      <th>sum</th>\n",
       "    </tr>\n",
       "    <tr>\n",
       "      <th>month</th>\n",
       "      <th></th>\n",
       "      <th></th>\n",
       "      <th></th>\n",
       "    </tr>\n",
       "  </thead>\n",
       "  <tbody>\n",
       "    <tr>\n",
       "      <th>1</th>\n",
       "      <td>0.739130</td>\n",
       "      <td>0.260870</td>\n",
       "      <td>1.000000</td>\n",
       "    </tr>\n",
       "    <tr>\n",
       "      <th>2</th>\n",
       "      <td>0.652174</td>\n",
       "      <td>0.347826</td>\n",
       "      <td>1.000000</td>\n",
       "    </tr>\n",
       "    <tr>\n",
       "      <th>3</th>\n",
       "      <td>0.608696</td>\n",
       "      <td>0.391304</td>\n",
       "      <td>1.000000</td>\n",
       "    </tr>\n",
       "    <tr>\n",
       "      <th>4</th>\n",
       "      <td>0.695652</td>\n",
       "      <td>0.304348</td>\n",
       "      <td>1.000000</td>\n",
       "    </tr>\n",
       "    <tr>\n",
       "      <th>5</th>\n",
       "      <td>0.608696</td>\n",
       "      <td>0.391304</td>\n",
       "      <td>1.000000</td>\n",
       "    </tr>\n",
       "    <tr>\n",
       "      <th>6</th>\n",
       "      <td>0.434783</td>\n",
       "      <td>0.565217</td>\n",
       "      <td>1.000000</td>\n",
       "    </tr>\n",
       "    <tr>\n",
       "      <th>7</th>\n",
       "      <td>0.608696</td>\n",
       "      <td>0.391304</td>\n",
       "      <td>1.000000</td>\n",
       "    </tr>\n",
       "    <tr>\n",
       "      <th>8</th>\n",
       "      <td>0.608696</td>\n",
       "      <td>0.391304</td>\n",
       "      <td>1.000000</td>\n",
       "    </tr>\n",
       "    <tr>\n",
       "      <th>9</th>\n",
       "      <td>0.608696</td>\n",
       "      <td>0.391304</td>\n",
       "      <td>1.000000</td>\n",
       "    </tr>\n",
       "    <tr>\n",
       "      <th>10</th>\n",
       "      <td>0.434783</td>\n",
       "      <td>0.565217</td>\n",
       "      <td>1.000000</td>\n",
       "    </tr>\n",
       "    <tr>\n",
       "      <th>11</th>\n",
       "      <td>0.347826</td>\n",
       "      <td>0.608696</td>\n",
       "      <td>0.956522</td>\n",
       "    </tr>\n",
       "    <tr>\n",
       "      <th>12</th>\n",
       "      <td>0.434783</td>\n",
       "      <td>0.521739</td>\n",
       "      <td>0.956522</td>\n",
       "    </tr>\n",
       "  </tbody>\n",
       "</table>\n",
       "</div>"
      ],
      "text/plain": [
       "          raise   decline       sum\n",
       "month                              \n",
       "1      0.739130  0.260870  1.000000\n",
       "2      0.652174  0.347826  1.000000\n",
       "3      0.608696  0.391304  1.000000\n",
       "4      0.695652  0.304348  1.000000\n",
       "5      0.608696  0.391304  1.000000\n",
       "6      0.434783  0.565217  1.000000\n",
       "7      0.608696  0.391304  1.000000\n",
       "8      0.608696  0.391304  1.000000\n",
       "9      0.608696  0.391304  1.000000\n",
       "10     0.434783  0.565217  1.000000\n",
       "11     0.347826  0.608696  0.956522\n",
       "12     0.434783  0.521739  0.956522"
      ]
     },
     "execution_count": 76,
     "metadata": {},
     "output_type": "execute_result"
    }
   ],
   "source": [
    "bmc_r_c"
   ]
  },
  {
   "cell_type": "code",
   "execution_count": null,
   "metadata": {},
   "outputs": [],
   "source": []
  },
  {
   "cell_type": "code",
   "execution_count": 77,
   "metadata": {},
   "outputs": [
    {
     "data": {
      "text/plain": [
       "<matplotlib.axes._subplots.AxesSubplot at 0x1c808a36ba8>"
      ]
     },
     "execution_count": 77,
     "metadata": {},
     "output_type": "execute_result"
    },
    {
     "data": {
      "image/png": "[encoded data removed]",
      "text/plain": [
       "<Figure size 432x288 with 1 Axes>"
      ]
     },
     "metadata": {
      "needs_background": "light"
     },
     "output_type": "display_data"
    }
   ],
   "source": [
    "bmc_r_c[['raise','decline']].plot.bar()"
   ]
  },
  {
   "cell_type": "code",
   "execution_count": null,
   "metadata": {},
   "outputs": [],
   "source": []
  },
  {
   "cell_type": "code",
   "execution_count": 78,
   "metadata": {},
   "outputs": [],
   "source": [
    "pivot_gas = total_df.pivot_table(values='GAS', \n",
    "                                 columns=['year'], \n",
    "                                 index=['month'], \n",
    "                                 aggfunc=np.mean)"
   ]
  },
  {
   "cell_type": "code",
   "execution_count": 79,
   "metadata": {},
   "outputs": [],
   "source": [
    "pivot_gas.loc[0] = pivot_gas.loc[12, :].shift(1)\n",
    "pivot_gas.fillna(method='ffill', inplace=True)\n",
    "pivot_gas = pivot_gas.sort_index()"
   ]
  },
  {
   "cell_type": "code",
   "execution_count": 80,
   "metadata": {},
   "outputs": [],
   "source": [
    "gmc = pivot_gas.pct_change()\n",
    "gmc = gmc.drop(gmc.index[0])"
   ]
  },
  {
   "cell_type": "code",
   "execution_count": null,
   "metadata": {},
   "outputs": [],
   "source": []
  },
  {
   "cell_type": "code",
   "execution_count": 81,
   "metadata": {},
   "outputs": [],
   "source": [
    "gmc_r_c = pd.DataFrame()\n",
    "gmc_r_c['raise'] = gmc[gmc > 0].count(axis=1)/len(gmc.columns)\n",
    "gmc_r_c['decline'] = gmc[gmc < 0].count(axis=1)/len(gmc.columns)\n",
    "gmc_r_c['sum']  = gmc_r_c['raise']  + gmc_r_c['decline']"
   ]
  },
  {
   "cell_type": "code",
   "execution_count": 82,
   "metadata": {},
   "outputs": [
    {
     "data": {
      "text/html": [
       "<div>\n",
       "<style scoped>\n",
       "    .dataframe tbody tr th:only-of-type {\n",
       "        vertical-align: middle;\n",
       "    }\n",
       "\n",
       "    .dataframe tbody tr th {\n",
       "        vertical-align: top;\n",
       "    }\n",
       "\n",
       "    .dataframe thead th {\n",
       "        text-align: right;\n",
       "    }\n",
       "</style>\n",
       "<table border=\"1\" class=\"dataframe\">\n",
       "  <thead>\n",
       "    <tr style=\"text-align: right;\">\n",
       "      <th></th>\n",
       "      <th>raise</th>\n",
       "      <th>decline</th>\n",
       "      <th>sum</th>\n",
       "    </tr>\n",
       "    <tr>\n",
       "      <th>month</th>\n",
       "      <th></th>\n",
       "      <th></th>\n",
       "      <th></th>\n",
       "    </tr>\n",
       "  </thead>\n",
       "  <tbody>\n",
       "    <tr>\n",
       "      <th>1</th>\n",
       "      <td>0.521739</td>\n",
       "      <td>0.478261</td>\n",
       "      <td>1.000000</td>\n",
       "    </tr>\n",
       "    <tr>\n",
       "      <th>2</th>\n",
       "      <td>0.347826</td>\n",
       "      <td>0.652174</td>\n",
       "      <td>1.000000</td>\n",
       "    </tr>\n",
       "    <tr>\n",
       "      <th>3</th>\n",
       "      <td>0.478261</td>\n",
       "      <td>0.521739</td>\n",
       "      <td>1.000000</td>\n",
       "    </tr>\n",
       "    <tr>\n",
       "      <th>4</th>\n",
       "      <td>0.652174</td>\n",
       "      <td>0.347826</td>\n",
       "      <td>1.000000</td>\n",
       "    </tr>\n",
       "    <tr>\n",
       "      <th>5</th>\n",
       "      <td>0.695652</td>\n",
       "      <td>0.304348</td>\n",
       "      <td>1.000000</td>\n",
       "    </tr>\n",
       "    <tr>\n",
       "      <th>6</th>\n",
       "      <td>0.521739</td>\n",
       "      <td>0.478261</td>\n",
       "      <td>1.000000</td>\n",
       "    </tr>\n",
       "    <tr>\n",
       "      <th>7</th>\n",
       "      <td>0.260870</td>\n",
       "      <td>0.695652</td>\n",
       "      <td>0.956522</td>\n",
       "    </tr>\n",
       "    <tr>\n",
       "      <th>8</th>\n",
       "      <td>0.347826</td>\n",
       "      <td>0.652174</td>\n",
       "      <td>1.000000</td>\n",
       "    </tr>\n",
       "    <tr>\n",
       "      <th>9</th>\n",
       "      <td>0.521739</td>\n",
       "      <td>0.478261</td>\n",
       "      <td>1.000000</td>\n",
       "    </tr>\n",
       "    <tr>\n",
       "      <th>10</th>\n",
       "      <td>0.565217</td>\n",
       "      <td>0.434783</td>\n",
       "      <td>1.000000</td>\n",
       "    </tr>\n",
       "    <tr>\n",
       "      <th>11</th>\n",
       "      <td>0.391304</td>\n",
       "      <td>0.565217</td>\n",
       "      <td>0.956522</td>\n",
       "    </tr>\n",
       "    <tr>\n",
       "      <th>12</th>\n",
       "      <td>0.434783</td>\n",
       "      <td>0.521739</td>\n",
       "      <td>0.956522</td>\n",
       "    </tr>\n",
       "  </tbody>\n",
       "</table>\n",
       "</div>"
      ],
      "text/plain": [
       "          raise   decline       sum\n",
       "month                              \n",
       "1      0.521739  0.478261  1.000000\n",
       "2      0.347826  0.652174  1.000000\n",
       "3      0.478261  0.521739  1.000000\n",
       "4      0.652174  0.347826  1.000000\n",
       "5      0.695652  0.304348  1.000000\n",
       "6      0.521739  0.478261  1.000000\n",
       "7      0.260870  0.695652  0.956522\n",
       "8      0.347826  0.652174  1.000000\n",
       "9      0.521739  0.478261  1.000000\n",
       "10     0.565217  0.434783  1.000000\n",
       "11     0.391304  0.565217  0.956522\n",
       "12     0.434783  0.521739  0.956522"
      ]
     },
     "execution_count": 82,
     "metadata": {},
     "output_type": "execute_result"
    }
   ],
   "source": [
    "gmc_r_c"
   ]
  },
  {
   "cell_type": "code",
   "execution_count": null,
   "metadata": {},
   "outputs": [],
   "source": []
  },
  {
   "cell_type": "code",
   "execution_count": 83,
   "metadata": {},
   "outputs": [
    {
     "data": {
      "text/plain": [
       "<matplotlib.axes._subplots.AxesSubplot at 0x1c80a6e55f8>"
      ]
     },
     "execution_count": 83,
     "metadata": {},
     "output_type": "execute_result"
    },
    {
     "data": {
      "image/png": "[encoded data removed]",
      "text/plain": [
       "<Figure size 432x288 with 1 Axes>"
      ]
     },
     "metadata": {
      "needs_background": "light"
     },
     "output_type": "display_data"
    }
   ],
   "source": [
    "gmc_r_c[['raise','decline']].plot.bar()"
   ]
  },
  {
   "cell_type": "code",
   "execution_count": null,
   "metadata": {},
   "outputs": [],
   "source": [
    "- 참고글) https://medium.com/energynotes/python-based-oil-gas-price-analysis-9fa82e002415"
   ]
  }
 ],
 "metadata": {
  "kernelspec": {
   "display_name": "Python 3",
   "language": "python",
   "name": "python3"
  },
  "language_info": {
   "codemirror_mode": {
    "name": "ipython",
    "version": 3
   },
   "file_extension": ".py",
   "mimetype": "text/x-python",
   "name": "python",
   "nbconvert_exporter": "python",
   "pygments_lexer": "ipython3",
   "version": "3.7.6"
  }
 },
 "nbformat": 4,
 "nbformat_minor": 2
}
