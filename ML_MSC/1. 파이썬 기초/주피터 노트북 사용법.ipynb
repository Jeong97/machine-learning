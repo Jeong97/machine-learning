{
 "cells": [
  {
   "cell_type": "markdown",
   "metadata": {},
   "source": [
    "# 1. 제목 만들기\n",
    "## 제목2\n",
    "### 제목3\n",
    "#### 제목4\n",
    "##### 제목5\n",
    "###### 제목6"
   ]
  },
  {
   "cell_type": "markdown",
   "metadata": {},
   "source": [
    "# 2. 목록 만들기\n",
    "- 리스트1\n",
    "- 리스트2\n",
    "- 리스트3"
   ]
  },
  {
   "cell_type": "markdown",
   "metadata": {},
   "source": [
    "# 3. 이미지 가져오기\n",
    "<img src = \"logo.png\">"
   ]
  },
  {
   "cell_type": "markdown",
   "metadata": {},
   "source": [
    "# 4. 표 만들기\n",
    "| 구분 | 의미 | 비고 |\n",
    "|---|:---:|---:|\n",
    "| `주피터` | 주피터 사용법 | `파이참` |\n",
    "| `Numpy` | Python의 수학 계산기 |  |\n",
    "| `Pandas` | Python의 엑셀 |  |\n",
    "| `Matplotlib` | Python 챠트 |  |"
   ]
  },
  {
   "cell_type": "code",
   "execution_count": 6,
   "metadata": {},
   "outputs": [
    {
     "name": "stdout",
     "output_type": "stream",
     "text": [
      "Hello~ Python!!!\n"
     ]
    }
   ],
   "source": [
    "print(\"Hello~ Python!!!\")"
   ]
  }
 ],
 "metadata": {
  "kernelspec": {
   "display_name": "Python 3",
   "language": "python",
   "name": "python3"
  },
  "language_info": {
   "codemirror_mode": {
    "name": "ipython",
    "version": 3
   },
   "file_extension": ".py",
   "mimetype": "text/x-python",
   "name": "python",
   "nbconvert_exporter": "python",
   "pygments_lexer": "ipython3",
   "version": "3.7.6"
  }
 },
 "nbformat": 4,
 "nbformat_minor": 4
}
